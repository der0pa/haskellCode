{
 "cells": [
  {
   "cell_type": "markdown",
   "metadata": {},
   "source": [
    "# Number/Digits -> Words Chapter 8 The Haskell Book"
   ]
  },
  {
   "cell_type": "code",
   "execution_count": 21,
   "metadata": {
    "collapsed": true
   },
   "outputs": [],
   "source": [
    "module Chapter8 where\n",
    "import Data.List (intersperse, intercalate)"
   ]
  },
  {
   "cell_type": "code",
   "execution_count": 22,
   "metadata": {
    "collapsed": true,
    "scrolled": true
   },
   "outputs": [],
   "source": [
    "-- input an Int and return its name as a String\n",
    "digitToWord :: Int -> String \n",
    "digitToWord n = \n",
    "  case n of\n",
    "    0 -> \"zero\"\n",
    "    1 -> \"one\"\n",
    "    2 -> \"two\"\n",
    "    3 -> \"three\"\n",
    "    4 -> \"four\"\n",
    "    5 -> \"five\"\n",
    "    6 -> \"six\"\n",
    "    7 -> \"seven\"\n",
    "    8 -> \"eight\"\n",
    "    9 -> \"nine\"\n",
    "    _ -> \"undefined\"\n",
    "\n"
   ]
  },
  {
   "cell_type": "code",
   "execution_count": 23,
   "metadata": {
    "collapsed": false
   },
   "outputs": [
    {
     "data": {
      "text/plain": [
       "\"four\""
      ]
     },
     "metadata": {},
     "output_type": "display_data"
    }
   ],
   "source": [
    "digitToWord 4"
   ]
  },
  {
   "cell_type": "code",
   "execution_count": 24,
   "metadata": {
    "collapsed": true
   },
   "outputs": [],
   "source": [
    "digits :: Int -> [Int]\n",
    "digits n\n",
    "  | n < 10 = [n]\n",
    "  | otherwise = digits(n `div` 10) ++ [n `mod` 10]"
   ]
  },
  {
   "cell_type": "code",
   "execution_count": 25,
   "metadata": {
    "collapsed": false
   },
   "outputs": [
    {
     "data": {
      "text/plain": [
       "[3,4,5,2]"
      ]
     },
     "metadata": {},
     "output_type": "display_data"
    }
   ],
   "source": [
    "digits 3452"
   ]
  },
  {
   "cell_type": "code",
   "execution_count": 26,
   "metadata": {
    "collapsed": false
   },
   "outputs": [
    {
     "data": {
      "text/plain": [
       "345"
      ]
     },
     "metadata": {},
     "output_type": "display_data"
    },
    {
     "data": {
      "text/plain": [
       "2"
      ]
     },
     "metadata": {},
     "output_type": "display_data"
    }
   ],
   "source": [
    "div 3452 10  --returns all but last digit\n",
    "mod 3452 10  --returns just last digit"
   ]
  },
  {
   "cell_type": "code",
   "execution_count": 29,
   "metadata": {
    "collapsed": false
   },
   "outputs": [],
   "source": [
    "import Data.List (intersperse, intercalate)\n",
    "-- wordNumber 123  -> \"one-two-three\"\n",
    "wordNumber :: Int -> String\n",
    "wordNumber n = intercalate \"-\" (map digitToWord (digits n) )\n"
   ]
  },
  {
   "cell_type": "code",
   "execution_count": 30,
   "metadata": {
    "collapsed": false
   },
   "outputs": [
    {
     "data": {
      "text/plain": [
       "\"three-four-five-two\""
      ]
     },
     "metadata": {},
     "output_type": "display_data"
    }
   ],
   "source": [
    "wordNumber 3452"
   ]
  }
 ],
 "metadata": {
  "kernelspec": {
   "display_name": "Haskell",
   "language": "haskell",
   "name": "haskell"
  },
  "language_info": {
   "codemirror_mode": "ihaskell",
   "file_extension": ".hs",
   "name": "haskell",
   "version": "7.10.2"
  }
 },
 "nbformat": 4,
 "nbformat_minor": 0
}
