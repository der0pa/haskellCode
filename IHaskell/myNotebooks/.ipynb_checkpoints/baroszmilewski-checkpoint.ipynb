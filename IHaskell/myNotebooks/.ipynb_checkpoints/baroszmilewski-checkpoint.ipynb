{
 "cells": [
  {
   "cell_type": "markdown",
   "metadata": {},
   "source": [
    "Here are some unicode/decimal for haskell/math\n",
    "\n",
    "circle = &#9675;\n",
    "\n",
    "f &#9675; g\n",
    "\n",
    "arrow = &#8594;\n",
    "\n",
    "double arrow = &#8658;\n",
    "\n",
    "lambda = &#955;\n",
    "\n",
    "forall = &#8704;\n"
   ]
  },
  {
   "cell_type": "markdown",
   "metadata": {
    "collapsed": true
   },
   "source": [
    "[Category Theory for Programmers](https://bartoszmilewski.com/2014/10/28/category-theory-for-programmers-the-preface/)\n",
    "* a catagory consists of: objects with arrows between them\n",
    "![alt text](https://bartoszmilewski.files.wordpress.com/2014/10/img_1330.jpg \"pigs w/ rockets!\")\n",
    "\n",
    "\n",
    "In a category, if there is an arrow going from A to B and an arrow going from B to C then there must also be a direct arrow from A to C that is their composition. This diagram is not a full category because it’s missing identity morphisms (see later)."
   ]
  },
  {
   "cell_type": "markdown",
   "metadata": {},
   "source": [
    "Arrows or Rockets are functions ... \n",
    "\n",
    "* function f takes an arg of A and returns B\n",
    "* function g takes an arg of B and returns C\n",
    "* you compose them by passing f to g\n",
    "\n",
    "* you just defined a new function that takes A and returns C\n"
   ]
  },
  {
   "cell_type": "markdown",
   "metadata": {},
   "source": [
    "here is a declaration of the above 'pig' thing\n",
    "\n",
    "```haskell\n",
    "f :: A -> B          \n",
    "g :: B -> C       \n",
    "```\n",
    "composed by:\n",
    "\n",
    "```haskell\n",
    "g ∘ f             \n",
    "```\n"
   ]
  },
  {
   "cell_type": "markdown",
   "metadata": {
    "collapsed": true
   },
   "source": [
    " Properties of composition\n",
    "\n",
    "### composition is associative \n",
    "\n",
    "you don't need parens if the objects match end to end like \n",
    "\n",
    "```haskell\n",
    "h∘(g∘f) = (h∘g)∘f = h∘g∘f\n",
    "```\n",
    "\n",
    "In (pseudo) Haskell:\n",
    "\n",
    "```haskell\n",
    "f :: A -> B\n",
    "\n",
    "g :: B -> C\n",
    "\n",
    "h :: C -> D\n",
    "\n",
    "h . (g . f) == (h . g) . f == h . g . f\n",
    "```\n",
    "\n",
    "### Identity 'Rockets' \n",
    "\n",
    "every object 'A' has an identity arrow or unit of composition\n",
    "\n",
    "this arrow loops from the object to itself\n",
    "\n",
    "a unit arrow for object A is called idA (identity of A)\n",
    "\n",
    "if function f goes from A to B then:\n",
    "\n",
    "```haskell\n",
    "f∘idA = f  \n",
    "```\n",
    "...and\n",
    "\n",
    "```haskell\n",
    "idB∘f = f\n",
    "```\n",
    "\n",
    "In Haskell the identity function is part of the Prelude.\n",
    "\n",
    "```haskell\n",
    "id :: a -> a\n",
    "\n",
    "id x = x\n",
    "```"
   ]
  },
  {
   "cell_type": "markdown",
   "metadata": {},
   "source": [
    "To summarize: A category consists of objects and arrows (morphisms). Arrows can be composed, and the composition is associative. Every object has an identity arrow that serves as a unit under composition.\n",
    "\n"
   ]
  },
  {
   "cell_type": "markdown",
   "metadata": {},
   "source": [
    "### Composition is the Essence of Programming\n",
    "\n",
    " how do we solve problems? We decompose bigger problems into smaller problems. If the smaller problems are still too big, we decompose them further, and so on. Finally, we write code that solves all the small problems. And then comes the essence of programming: we compose those pieces of code to create solutions to larger problems. \n"
   ]
  },
  {
   "cell_type": "markdown",
   "metadata": {},
   "source": [
    "### Who Needs Types?\n",
    "\n",
    "![alt text](https://bartoszmilewski.files.wordpress.com/2014/10/img_1329.jpg\n",
    "\"big-gums\")\n",
    "us!\n",
    "\n",
    " Type checking provides a barrier against incorrect programs.\n",
    " \n",
    " ### Types are About Composability\n",
    " \n",
    " Category theory is about composing arrows. But not any two arrows can be composed. The target object of one arrow must be the same as the source source object of the next arrow *see pigs above\n",
    "\n",
    "In functional programming we pass the results of one function to another. The program will not work if the target function is not able to correctly interpret the data produced by the source function. The two ends must fit for the composition to work."
   ]
  },
  {
   "cell_type": "markdown",
   "metadata": {},
   "source": [
    "### What are types?\n",
    "\n",
    "...they are sets of values! \n",
    "\n",
    "* Bool is a two-element set of True and False\n",
    "* Char is a set of all Unicode characters\n",
    "* String or [Char] is an infinite set... and more!\n",
    "\n",
    "When we declare x to be an Integer:"
   ]
  },
  {
   "cell_type": "code",
   "execution_count": null,
   "metadata": {},
   "outputs": [],
   "source": [
    "x :: Integer\n",
    "x = 42 \n",
    "x            -- call the function x"
   ]
  },
  {
   "cell_type": "markdown",
   "metadata": {},
   "source": [
    "we are saying that it’s an element of the set of integers. Integer in Haskell is an infinite set, and it can be used to do arbitrary precision arithmetic. \n",
    "\n",
    "Set is a very special category\n",
    "\n",
    "in Set, objects are sets and morphisms(arrows) are functions"
   ]
  },
  {
   "cell_type": "markdown",
   "metadata": {},
   "source": [
    "functions that always produce the same result given the same input and have no side effects are called pure functions. In a pure functional language like Haskell all functions are pure\n",
    "\n",
    "functions map elements of one set to elements of another set."
   ]
  },
  {
   "cell_type": "code",
   "execution_count": null,
   "metadata": {},
   "outputs": [],
   "source": [
    "--examples of Types\n",
    "f44 :: () -> Integer  -- () is pronounced \"unit\"\n",
    "f44 () = 44           -- define f44 by pattern matching \"()\"\n",
    "f44 ()                -- call function providing unit \"()\""
   ]
  },
  {
   "cell_type": "code",
   "execution_count": null,
   "metadata": {},
   "outputs": [],
   "source": [
    "fInt :: Integer -> ()\n",
    "fInt x = ()\n",
    "-- can also be written like:\n",
    "-- fInt _ = ()     \"_\" is a wildcard pattern/ arg is discarded\n",
    "fInt 42            -- 42 is discarded and \"unit\" is returned"
   ]
  },
  {
   "cell_type": "markdown",
   "metadata": {},
   "source": [
    "Functions that can be implemented with the same formula for any type are called parametrically polymorphic."
   ]
  },
  {
   "cell_type": "code",
   "execution_count": null,
   "metadata": {},
   "outputs": [],
   "source": [
    "unit :: a -> () --  using 'a' as a 'type parameter' instead of a concrete type\n",
    "unit _ = ()\n",
    "unit 42 \n",
    "unit \"42\""
   ]
  },
  {
   "cell_type": "code",
   "execution_count": null,
   "metadata": {},
   "outputs": [],
   "source": []
  }
 ],
 "metadata": {
  "kernelspec": {
   "display_name": "Haskell",
   "language": "haskell",
   "name": "haskell"
  },
  "language_info": {
   "codemirror_mode": "ihaskell",
   "file_extension": ".hs",
   "name": "haskell",
   "version": "8.2.2"
  }
 },
 "nbformat": 4,
 "nbformat_minor": 1
}
