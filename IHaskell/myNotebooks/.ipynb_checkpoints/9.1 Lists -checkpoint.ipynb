{
 "cells": [
  {
   "cell_type": "markdown",
   "metadata": {},
   "source": [
    " Lists in haskell serve in two primary ways\n",
    "\n",
    "* process a collection of values\n",
    "* represent a stream of values "
   ]
  },
  {
   "cell_type": "markdown",
   "metadata": {},
   "source": [
    "the **List** datatype in haskell is defined as:"
   ]
  },
  {
   "cell_type": "markdown",
   "metadata": {},
   "source": [
    "`data [] a = [] | a : [a]`"
   ]
  },
  {
   "cell_type": "markdown",
   "metadata": {},
   "source": [
    "how you would say this?\n",
    "1. `data []`   The datatype with the type constructor `[]` ...\n",
    "2. `data [] a`   ...takes a single type constructor `a`...\n",
    "3. `data [] a =`   ...at the term level can be constructed via...\n",
    "4. `data [] a = []`   ...nullary construcor `[]`\n",
    "5. `data [] a = [] |`   ...*or* it can be constructed by...\n",
    "6. `data [] a = [] | a : [a]`   ...data constructor `(:)` which is a product of a value of the type `a` we mentioned in the type constructor *and* a value of type `[a]`, that is \"more list\"."
   ]
  },
  {
   "cell_type": "markdown",
   "metadata": {},
   "source": [
    "9.3 Pattern matching on list"
   ]
  },
  {
   "cell_type": "code",
   "execution_count": null,
   "metadata": {},
   "outputs": [],
   "source": [
    "let myHead (x : _) = x"
   ]
  },
  {
   "cell_type": "code",
   "execution_count": null,
   "metadata": {},
   "outputs": [],
   "source": [
    ":t myHead"
   ]
  },
  {
   "cell_type": "code",
   "execution_count": null,
   "metadata": {},
   "outputs": [],
   "source": [
    "myHead [1,2,3]"
   ]
  },
  {
   "cell_type": "markdown",
   "metadata": {},
   "source": [
    "We can do the opposite also:"
   ]
  },
  {
   "cell_type": "code",
   "execution_count": null,
   "metadata": {},
   "outputs": [],
   "source": [
    "let myTail (_ : xs) = xs"
   ]
  },
  {
   "cell_type": "code",
   "execution_count": null,
   "metadata": {},
   "outputs": [],
   "source": [
    "myTail [1,2,3]"
   ]
  },
  {
   "cell_type": "markdown",
   "metadata": {},
   "source": [
    "What about: "
   ]
  },
  {
   "cell_type": "code",
   "execution_count": null,
   "metadata": {},
   "outputs": [],
   "source": [
    "myTail []"
   ]
  },
  {
   "cell_type": "markdown",
   "metadata": {},
   "source": [
    "or:"
   ]
  },
  {
   "cell_type": "code",
   "execution_count": null,
   "metadata": {},
   "outputs": [],
   "source": [
    "myHead []"
   ]
  },
  {
   "cell_type": "markdown",
   "metadata": {},
   "source": [
    "we need to define myHead/Tail to 'handle' the empty list:"
   ]
  },
  {
   "cell_type": "code",
   "execution_count": null,
   "metadata": {},
   "outputs": [],
   "source": [
    "myTail :: [a] -> [a]\n",
    "myTail [] = []\n",
    "myTail (_ : xs) = xs"
   ]
  },
  {
   "cell_type": "code",
   "execution_count": null,
   "metadata": {},
   "outputs": [],
   "source": [
    "myTail [1..6]"
   ]
  },
  {
   "cell_type": "code",
   "execution_count": null,
   "metadata": {},
   "outputs": [],
   "source": [
    "myTail []"
   ]
  },
  {
   "cell_type": "markdown",
   "metadata": {},
   "source": [
    "a better to handle `[]` is to use the 'Maybe' datatype"
   ]
  },
  {
   "cell_type": "code",
   "execution_count": null,
   "metadata": {},
   "outputs": [],
   "source": [
    "safeTail :: [a] -> Maybe [a]\n",
    "safeTail [] = Nothing\n",
    "safeTail (x: []) = Nothing\n",
    "safeTail (_: xs) = Just xs"
   ]
  },
  {
   "cell_type": "code",
   "execution_count": null,
   "metadata": {},
   "outputs": [],
   "source": [
    "safeTail []"
   ]
  },
  {
   "cell_type": "code",
   "execution_count": null,
   "metadata": {},
   "outputs": [],
   "source": [
    "safeTail [1..6]"
   ]
  },
  {
   "cell_type": "markdown",
   "metadata": {},
   "source": [
    "9.4 Lists' syntactic sugar"
   ]
  },
  {
   "cell_type": "code",
   "execution_count": null,
   "metadata": {},
   "outputs": [],
   "source": [
    "[1,2,3] ++ [4]"
   ]
  },
  {
   "cell_type": "markdown",
   "metadata": {},
   "source": [
    "without sugar:"
   ]
  },
  {
   "cell_type": "code",
   "execution_count": null,
   "metadata": {},
   "outputs": [],
   "source": [
    "(1:2:3:[]) ++ 4 : []"
   ]
  },
  {
   "cell_type": "markdown",
   "metadata": {},
   "source": [
    "9.5 Using ranges to contruct lists"
   ]
  },
  {
   "cell_type": "code",
   "execution_count": null,
   "metadata": {},
   "outputs": [],
   "source": [
    "[1..10]"
   ]
  },
  {
   "cell_type": "code",
   "execution_count": null,
   "metadata": {},
   "outputs": [],
   "source": [
    "enumFromTo 1 10"
   ]
  },
  {
   "cell_type": "code",
   "execution_count": null,
   "metadata": {},
   "outputs": [],
   "source": [
    "[1,3..10]"
   ]
  },
  {
   "cell_type": "code",
   "execution_count": null,
   "metadata": {},
   "outputs": [],
   "source": [
    "[2,4..10]"
   ]
  },
  {
   "cell_type": "code",
   "execution_count": null,
   "metadata": {},
   "outputs": [],
   "source": [
    "['t'..'z']"
   ]
  },
  {
   "cell_type": "markdown",
   "metadata": {},
   "source": [
    "The types of the functions in *range* syntax:"
   ]
  },
  {
   "cell_type": "code",
   "execution_count": null,
   "metadata": {},
   "outputs": [],
   "source": [
    ":i enumFrom"
   ]
  },
  {
   "cell_type": "code",
   "execution_count": null,
   "metadata": {},
   "outputs": [],
   "source": [
    ":t enumFromThen"
   ]
  },
  {
   "cell_type": "code",
   "execution_count": null,
   "metadata": {},
   "outputs": [],
   "source": [
    ":t enumFromTo"
   ]
  },
  {
   "cell_type": "code",
   "execution_count": null,
   "metadata": {},
   "outputs": [],
   "source": [
    ":t enumFromThenTo\n",
    "\n",
    "enumFromThenTo 3 6 36\n"
   ]
  },
  {
   "cell_type": "markdown",
   "metadata": {
    "collapsed": true
   },
   "source": [
    "All these functions require the type being \"ranged\" have an instance\n",
    "of the Enum typeclass \n"
   ]
  },
  {
   "cell_type": "markdown",
   "metadata": {},
   "source": [
    "Exercise: enumFromTo"
   ]
  },
  {
   "cell_type": "code",
   "execution_count": null,
   "metadata": {},
   "outputs": [],
   "source": [
    "-- list comprehensions\n",
    "\n",
    "[x ^ 2 | x <- [1..10]]"
   ]
  },
  {
   "cell_type": "code",
   "execution_count": null,
   "metadata": {},
   "outputs": [],
   "source": [
    "-- add a predicate /even numbers only\n",
    "\n",
    "[x ^ 2 | x <- [1..10], rem x 2 == 0]\n",
    "\n",
    "rem 5 2 == 0 \n",
    "rem 6 2 == 0"
   ]
  },
  {
   "cell_type": "code",
   "execution_count": null,
   "metadata": {},
   "outputs": [],
   "source": [
    "-- x to the y power\n",
    "\n",
    "1 ^ 2\n",
    "1 ^ 3\n",
    "2 ^ 2\n",
    "2 ^ 3 == 2 * 2 * 2   -- 8\n",
    "3 ^ 2 == 3 * 3       -- 9\n",
    "3 ^ 3 == 3 * 3 * 3   -- 27\n",
    "4 ^ 2\n",
    "4 ^ 3\n",
    "5 ^ 2\n",
    "5 ^ 3"
   ]
  },
  {
   "cell_type": "code",
   "execution_count": null,
   "metadata": {
    "scrolled": true
   },
   "outputs": [],
   "source": [
    "[x ^ y | x <- [1..5], y <- [2, 3]]"
   ]
  },
  {
   "cell_type": "code",
   "execution_count": null,
   "metadata": {
    "scrolled": true
   },
   "outputs": [],
   "source": [
    "-- lets add a predicate of ' greater than 20 ' \n",
    "[x ^ y | x <- [1..5], y <- [2, 3], x ^ y > 20]"
   ]
  },
  {
   "cell_type": "code",
   "execution_count": null,
   "metadata": {},
   "outputs": [],
   "source": [
    "-- turn 2 lists into 1 list of tuples like this  /even different types\n",
    "[ (x, y) | x <- [1, 2, 3], y <- [6, 7]]\n",
    "[ (x, y) | x <- [1, 2, 3], y <- ['a', 'b']]\n"
   ]
  },
  {
   "cell_type": "code",
   "execution_count": null,
   "metadata": {},
   "outputs": [],
   "source": [
    "[x ^ 2 | x <- [10..15]]\n",
    "\n",
    "-- lets name the above list comprehension \n",
    "\n",
    "mySqr = [x ^ 2 | x <- [10..15]]\n",
    "\n",
    "-- and then use it in another list comp.\n",
    "\n",
    "[(x, y) | x <- mySqr, y <- ['a', 'b']]\n",
    "\n",
    "-- add a predicate of less than  5 \n",
    "\n",
    "[(x, y) | x <- mySqr, y <- ['a', 'b'], x < 200]"
   ]
  },
  {
   "cell_type": "markdown",
   "metadata": {},
   "source": [
    "List comprehensions with Strings"
   ]
  },
  {
   "cell_type": "code",
   "execution_count": null,
   "metadata": {},
   "outputs": [],
   "source": [
    ":t elem\n",
    "\n",
    "elem 'a' \"abracadabra\"  -- True\n",
    "elem 'i' \"abracadabra\"  -- False"
   ]
  },
  {
   "cell_type": "code",
   "execution_count": null,
   "metadata": {},
   "outputs": [],
   "source": [
    "-- Three Letter Acronym == TLA\n",
    "[x | x <- \"Three Letter Acronym\", x `elem` ['A'..'Z']]"
   ]
  },
  {
   "cell_type": "code",
   "execution_count": null,
   "metadata": {},
   "outputs": [],
   "source": [
    "-- Now generalize it to work with any String\n",
    "\n",
    "acroGen xs = [x | x <- xs, x `elem` ['A'..'Z']]\n",
    "\n",
    "-- Lets try it out\n",
    "\n",
    "acroGen \"Self Cotained Underwater Breathing Apparatus\"\n",
    "\n",
    "acroGen \"National Aeronautics and Space Administration\""
   ]
  },
  {
   "cell_type": "code",
   "execution_count": null,
   "metadata": {},
   "outputs": [],
   "source": [
    "-- Exercises: Square Cube\n",
    "\n",
    "mySqr = [x^2 | x <- [1..5]]\n",
    "myCube = [y^3 | y <- [1..5]]\n",
    "\n",
    "[ (x, y) | x <- mySqr, y <- myCube]\n",
    "\n",
    "-- now alter output to only x,y that are less than 50\n",
    "\n",
    "[ (x, y) | x <- mySqr, y <- myCube, x < 50 , y < 50]\n",
    "\n",
    "-- get the length of output\n",
    "\n",
    "myListTups = [ (x, y) | x <- mySqr, y <- myCube, x < 50 , y < 50]\n",
    "\n",
    "length myListTups\n"
   ]
  },
  {
   "cell_type": "raw",
   "metadata": {},
   "source": [
    "Using GHCi's :sprint command   \n",
    "\n",
    ":sprint does not function in IHaskell :("
   ]
  },
  {
   "cell_type": "code",
   "execution_count": null,
   "metadata": {},
   "outputs": [],
   "source": [
    "blah = enumFromTo 'a' 'z'\n",
    ":sprint blah"
   ]
  },
  {
   "cell_type": "code",
   "execution_count": null,
   "metadata": {},
   "outputs": [],
   "source": [
    "num :: [Int]\n",
    "num = [1, 2, 3]"
   ]
  },
  {
   "cell_type": "code",
   "execution_count": null,
   "metadata": {},
   "outputs": [],
   "source": [
    "take 1 $ map (+1) [1, 2, 3]\n",
    "take 1 ( map (+1) [1, 2, 3])"
   ]
  },
  {
   "cell_type": "markdown",
   "metadata": {},
   "source": [
    "9.12 Chapter Exercises"
   ]
  },
  {
   "cell_type": "code",
   "execution_count": null,
   "metadata": {},
   "outputs": [],
   "source": [
    "import Data.Char"
   ]
  },
  {
   "cell_type": "code",
   "execution_count": null,
   "metadata": {},
   "outputs": [],
   "source": [
    ":t isUpper\n",
    ":t toUpper"
   ]
  },
  {
   "cell_type": "markdown",
   "metadata": {},
   "source": [
    "Write that function such that, given the input   \n",
    "“HbEfLrLxO,” your function will return “HELLO.”"
   ]
  },
  {
   "cell_type": "code",
   "execution_count": null,
   "metadata": {},
   "outputs": [],
   "source": [
    "deCypher xs = [x | x <- xs, isUpper x]\n",
    "\n",
    "deCypher \"HbEfLrLxO\"\n"
   ]
  },
  {
   "cell_type": "code",
   "execution_count": null,
   "metadata": {},
   "outputs": [],
   "source": [
    "capItalize :: String -> String\n",
    "capItalize [] = []\n",
    "capItalize x = toUpper (head x) : map toLower (tail x) \n",
    "capItalize \"julie\"\n",
    "capItalize \"\""
   ]
  },
  {
   "cell_type": "markdown",
   "metadata": {},
   "source": [
    "Function composition "
   ]
  },
  {
   "cell_type": "code",
   "execution_count": null,
   "metadata": {},
   "outputs": [],
   "source": [
    ":t (.)"
   ]
  },
  {
   "cell_type": "code",
   "execution_count": null,
   "metadata": {},
   "outputs": [],
   "source": [
    "negate . sum $ [1,2,3,4,5]\n",
    "(negate . sum ) [1,2,3,4,5]"
   ]
  },
  {
   "cell_type": "code",
   "execution_count": null,
   "metadata": {},
   "outputs": [],
   "source": [
    "take 5 . reverse $ [1..10]\n",
    "(take 5 . reverse ) [1..10]"
   ]
  },
  {
   "cell_type": "code",
   "execution_count": null,
   "metadata": {},
   "outputs": [],
   "source": [
    "take 5 (enumFrom 3)\n",
    "\n",
    "-- now with function composition\n",
    "\n",
    "take 5 . enumFrom $ 3"
   ]
  },
  {
   "cell_type": "code",
   "execution_count": null,
   "metadata": {},
   "outputs": [],
   "source": [
    "-- f x = take 5 . enumFrom $ x   -- is the same as:\n",
    "\n",
    "f = take 5 . enumFrom  -- I think this is pointfree style\n",
    "\n",
    "f 3"
   ]
  },
  {
   "cell_type": "code",
   "execution_count": null,
   "metadata": {},
   "outputs": [],
   "source": [
    "take 5 . filter odd . enumFrom $ 3\n",
    "(take 5 . filter odd . enumFrom) 3"
   ]
  },
  {
   "cell_type": "markdown",
   "metadata": {},
   "source": [
    "PointFree style   \n",
    "composing functions without specifying their arguments   \n",
    "the 'point' in pointfree refer to the arguments"
   ]
  },
  {
   "cell_type": "code",
   "execution_count": null,
   "metadata": {},
   "outputs": [],
   "source": [
    "f = negate . sum\n",
    "f [1,2,3,4,5]"
   ]
  },
  {
   "cell_type": "code",
   "execution_count": null,
   "metadata": {},
   "outputs": [],
   "source": [
    "f = length . filter (== 'a')   -- how many 'a' in a string\n",
    "f \"abracadabra\""
   ]
  },
  {
   "cell_type": "code",
   "execution_count": null,
   "metadata": {},
   "outputs": [],
   "source": [
    "module Arith2 where\n",
    "\n",
    "add :: Int -> Int -> Int\n",
    "add x y = x + y\n",
    "\n",
    "addPF :: Int -> Int -> Int\n",
    "addPF = (+)\n",
    "\n",
    "addOne :: Int -> Int\n",
    "addOne = \\x -> x + 1\n",
    "\n",
    "addOnePF :: Int -> Int\n",
    "addOnePF = (+1)\n",
    "\n",
    "main :: IO ()\n",
    "main = do\n",
    "  print (0 :: Int)\n",
    "  print (add 1 0)\n",
    "  print (addOne 0)\n",
    "  print (addOnePF 0)\n",
    "  print ((addOne . addOne)0)\n",
    "  \n",
    "  print ((addOnePF . addOne)0)\n",
    "  print ((addOne . addOnePF)0)\n",
    "  print ((addOnePF . addOnePF)0)\n",
    "  print (negate  (addOne 0))\n",
    "  print ((negate . addOne) 0)\n",
    "  print ((addOne . addOne . addOne\n",
    "           . negate . addOne)0)"
   ]
  },
  {
   "cell_type": "code",
   "execution_count": null,
   "metadata": {},
   "outputs": [],
   "source": [
    ":l Arith2\n",
    "main"
   ]
  }
 ],
 "metadata": {
  "kernelspec": {
   "display_name": "Haskell",
   "language": "haskell",
   "name": "haskell"
  },
  "language_info": {
   "codemirror_mode": "ihaskell",
   "file_extension": ".hs",
   "name": "haskell",
   "version": "8.2.2"
  }
 },
 "nbformat": 4,
 "nbformat_minor": 1
}
