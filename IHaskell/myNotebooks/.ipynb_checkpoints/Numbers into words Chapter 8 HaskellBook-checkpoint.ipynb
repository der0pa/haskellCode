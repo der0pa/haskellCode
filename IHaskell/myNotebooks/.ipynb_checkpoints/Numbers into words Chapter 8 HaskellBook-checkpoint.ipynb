{
 "cells": [
  {
   "cell_type": "markdown",
   "metadata": {},
   "source": [
    "# Number/Digits -> Words Chapter 8 The Haskell Book"
   ]
  },
  {
   "cell_type": "code",
   "execution_count": null,
   "metadata": {},
   "outputs": [],
   "source": [
    "module Chapter8 where\n",
    "import Data.List (intersperse, intercalate)"
   ]
  },
  {
   "cell_type": "code",
   "execution_count": null,
   "metadata": {
    "scrolled": true
   },
   "outputs": [],
   "source": [
    "-- input an Int and return its name as a String\n",
    "digitToWord :: Int -> String \n",
    "digitToWord n = \n",
    "  case n of\n",
    "    0 -> \"zero\"\n",
    "    1 -> \"one\"\n",
    "    2 -> \"two\"\n",
    "    3 -> \"three\"\n",
    "    4 -> \"four\"\n",
    "    5 -> \"five\"\n",
    "    6 -> \"six\"\n",
    "    7 -> \"seven\"\n",
    "    8 -> \"eight\"\n",
    "    9 -> \"nine\"\n",
    "    _ -> \"undefined\"\n",
    "\n"
   ]
  },
  {
   "cell_type": "code",
   "execution_count": null,
   "metadata": {},
   "outputs": [],
   "source": [
    "digitToWord 4"
   ]
  },
  {
   "cell_type": "code",
   "execution_count": null,
   "metadata": {},
   "outputs": [],
   "source": [
    "digits :: Int -> [Int]\n",
    "digits n\n",
    "  | n < 10 = [n]\n",
    "  | otherwise = digits(n `div` 10) ++ [n `mod` 10]"
   ]
  },
  {
   "cell_type": "code",
   "execution_count": null,
   "metadata": {},
   "outputs": [],
   "source": [
    "digits 3452"
   ]
  },
  {
   "cell_type": "code",
   "execution_count": null,
   "metadata": {},
   "outputs": [],
   "source": [
    "div 3452 10  --returns all but last digit\n",
    "mod 3452 10  --returns just last digit"
   ]
  },
  {
   "cell_type": "code",
   "execution_count": null,
   "metadata": {},
   "outputs": [],
   "source": [
    "import Data.List (intersperse, intercalate)\n",
    "-- wordNumber 123  -> \"one-two-three\"\n",
    "wordNumber :: Int -> String\n",
    "wordNumber n = intercalate \"-\" (map digitToWord (digits n) )\n"
   ]
  },
  {
   "cell_type": "code",
   "execution_count": null,
   "metadata": {},
   "outputs": [],
   "source": [
    "wordNumber 3452"
   ]
  }
 ],
 "metadata": {
  "kernelspec": {
   "display_name": "Haskell",
   "language": "haskell",
   "name": "haskell"
  },
  "language_info": {
   "codemirror_mode": "ihaskell",
   "file_extension": ".hs",
   "name": "haskell",
   "version": "8.2.2"
  }
 },
 "nbformat": 4,
 "nbformat_minor": 1
}
