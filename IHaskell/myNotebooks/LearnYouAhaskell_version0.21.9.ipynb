{
 "cells": [
  {
   "cell_type": "markdown",
   "metadata": {},
   "source": [
    "[Learn you a Haskell for Great Good!](http://learnyouahaskell.com)\n",
    "\n",
    "IHaskell-Notebook version 0.21.9 ![alt text](http://s3.amazonaws.com/lyah/startingout.png \"chick or egg\")\n",
    "\n",
    "jupyter-notebooks are an interactive 'thing'\n",
    "\n",
    "I have heard them called: \n",
    "\n",
    "1. 'reproducible-research-thing'\n",
    "2. 'literate-programming-thing'\n",
    "3. 'an-application-thing-that-can-teach-haskell-coding-thing'\n",
    "\n",
    "I'm partial to the last one ... yeah lets use that one.\n",
    "\n",
    "To evaluate a code 'cell' denoted with: \n",
    "\n",
    "**In [ ]:**\n",
    "\n",
    "select it by clicking on it like this ...'click'\n",
    "and then press the ~~Shift~~ Ctrl/ and Enter keys at the same time \n",
    "\n",
    "well... hold the ~~'shift'~~ 'control' key down while hitting the 'enter' key\n",
    "'shift' return works but also adds a new cell if it can.\n",
    "\n",
    "This will trigger the ghci-interpreter to parse the input and then \n",
    "cook it down untill it is ready to be a 'printed out responce' using \n",
    "the ghcjs 'thing'.\n",
    "\n",
    "That is a really high level view of the software. we will dig deeper \n",
    "into this stuff later/ much later ...but for now just remember\n",
    "\n",
    "'~~Capitalize~~Ctrl/Control+Enter'.\n",
    "\n",
    "how does a jupyter notebook really work? \n",
    "I have no idea! but is uses python code.\n",
    "\n",
    "to learn more about this 'jupyter' stuff goto [jupyter.org](http:jupyter.org)\n",
    "![alt text](https://cdn.oreillystatic.com/en/assets/1/eventseries/42/jupytercon_logo_2c.svg \"logo\")"
   ]
  },
  {
   "cell_type": "markdown",
   "metadata": {},
   "source": [
    "What is *Haskell* ?\n",
    "\n",
    "1. Haskell is pure\n",
    "2. Haskell is lazy  ![alt text](http://s3.amazonaws.com/lyah/lazy.png \"zzzzz\")\n",
    "3. Haskell is statically typed ...\n",
    " * but has *type inference*\n",
    "4. Haskell is functional ...![alt text](http://s3.amazonaws.com/lyah/fx.png \"f of x\")\n",
    " * with *higher-order-functions*  \n",
    "5. Haskell uses immutable data structures\n",
    "7. Haskell is named after ['Haskell Curry'](https://en.wikipedia.org/wiki/Haskell_Curry) \n",
    "![alt text](http://s3.amazonaws.com/lyah/cowboy.png \"not-HC\")\n",
    "8. Haskell was designed by mostly really smart 'bearded-dudes' \n",
    "9. Haskell is said to be difficult to learn\n",
    " * because most programmers learned how to program a dumb way\n",
    "42. Haskell has alot of stuff \n",
    "\n",
    "doesn't seem that hard yet... does it?  "
   ]
  },
  {
   "cell_type": "code",
   "execution_count": 1,
   "metadata": {},
   "outputs": [
    {
     "data": {
      "text/plain": [
       "[2,4,6,8,10,12]"
      ]
     },
     "metadata": {},
     "output_type": "display_data"
    }
   ],
   "source": [
    "--programs in haskell are a series of transformations to data.\n",
    "xs = [1,2,3,4,5,6]      -- this is a list of Numbers named xs.\n",
    "doubleThis x = x * 2    -- this is a function that doubles stuff\n",
    "map doubleThis xs       -- this transfoms our list --sort of "
   ]
  },
  {
   "cell_type": "code",
   "execution_count": 2,
   "metadata": {},
   "outputs": [
    {
     "data": {
      "text/plain": [
       "[1,2,3,4,5,6]"
      ]
     },
     "metadata": {},
     "output_type": "display_data"
    }
   ],
   "source": [
    "print xs                 -- not really remember 'immutable'"
   ]
  },
  {
   "cell_type": "code",
   "execution_count": null,
   "metadata": {},
   "outputs": [],
   "source": [
    "--some really basic arithmetic.\n",
    "2 + 5\n",
    "42 + 100\n",
    "50 + (-8)\n",
    "84 / 2       --below are the results of this math in order"
   ]
  },
  {
   "cell_type": "markdown",
   "metadata": {},
   "source": [
    "![alt text](http://s3.amazonaws.com/lyah/baby.png \"baby\")\n",
    "So here is your first assignment:\n",
    "write a program that multiplies two numbers \n",
    "and then subracts a number from that product\n",
    "and then add back another number to equal *42*\n",
    "\n",
    "x * y - z + q = 42  \n",
    "\n",
    "--lower case letters are just place holders."
   ]
  },
  {
   "cell_type": "code",
   "execution_count": null,
   "metadata": {},
   "outputs": [],
   "source": [
    "-- OK! I'll show you!\n",
    "50 * 100 - 4999 + 41"
   ]
  },
  {
   "cell_type": "code",
   "execution_count": null,
   "metadata": {
    "collapsed": true
   },
   "outputs": [],
   "source": [
    "-- your turn!   oh yeah '--' lines are code comments.\n",
    "\n",
    "\n",
    "\n",
    "\n",
    "-- Shift+Enter to run your program"
   ]
  },
  {
   "cell_type": "markdown",
   "metadata": {},
   "source": [
    "how did you do?\n",
    "\n",
    "Ok how about some [Boolean algebra?](https://en.wikipedia.org/wiki/Boolean_algebra)  \n",
    "What!\n",
    "\n",
    "&&  represents logical *and*\n",
    "\n",
    "||  represents logical *or*\n",
    "\n",
    "not represents logical *negates* \n"
   ]
  },
  {
   "cell_type": "code",
   "execution_count": null,
   "metadata": {},
   "outputs": [],
   "source": [
    "\n",
    "True && False  -- should return False\n"
   ]
  },
  {
   "cell_type": "code",
   "execution_count": null,
   "metadata": {},
   "outputs": [],
   "source": [
    "True && True   -- should return True\n"
   ]
  },
  {
   "cell_type": "code",
   "execution_count": null,
   "metadata": {},
   "outputs": [],
   "source": [
    "False || True  -- True\n"
   ]
  },
  {
   "cell_type": "code",
   "execution_count": null,
   "metadata": {},
   "outputs": [],
   "source": [
    "not False      -- catching on?\n"
   ]
  },
  {
   "cell_type": "code",
   "execution_count": null,
   "metadata": {},
   "outputs": [],
   "source": [
    "-- testing for equality you use '==' double equal\n",
    "-- testing for un-equal you use '/=' slash equal\n",
    "5 == 5 \n",
    "5 /= 5 "
   ]
  },
  {
   "cell_type": "markdown",
   "metadata": {},
   "source": [
    "***\n",
    "***\n",
    "Now it's your turn -did you think i was going to do all the programing!\n",
    "\n",
    "write an expression that uses 'Bools' using \n",
    "if/then/else\n",
    "see if you can get \"nice\" to print"
   ]
  },
  {
   "cell_type": "code",
   "execution_count": null,
   "metadata": {},
   "outputs": [],
   "source": [
    "--as in:\n",
    "if 11 == 10 then \"nice\" else \"oops\""
   ]
  },
  {
   "cell_type": "code",
   "execution_count": null,
   "metadata": {
    "collapsed": true
   },
   "outputs": [],
   "source": [
    "-- go ahead don't be shy! \n",
    "-- type some code on next line \n",
    "\n",
    "\n",
    "\n",
    "--and hit Shift+Enter to evaluate your code"
   ]
  },
  {
   "cell_type": "markdown",
   "metadata": {
    "collapsed": true
   },
   "source": [
    "Well how did you do? I can't tell cuz your are in the future......."
   ]
  },
  {
   "cell_type": "markdown",
   "metadata": {},
   "source": [
    "Up next: An introduction to haskell *List*s\n",
    "\n",
    "lists are like shopping lists ...sort of\n",
    "\n",
    "they are *homogenous* meaning all the items need to be\n",
    "the same type like this:"
   ]
  },
  {
   "cell_type": "code",
   "execution_count": null,
   "metadata": {},
   "outputs": [],
   "source": [
    "lostNumbers = [4,8,16,23,42]  --lostNumbers is a List of values\n",
    "lostNumbers    --prints it out the value"
   ]
  },
  {
   "cell_type": "code",
   "execution_count": null,
   "metadata": {},
   "outputs": [],
   "source": [
    "-- a common task with lists is make one list out of two lists\n",
    "lostNumbers ++ [100,99,98]        -- (++) is concatination"
   ]
  },
  {
   "cell_type": "code",
   "execution_count": null,
   "metadata": {},
   "outputs": [],
   "source": [
    "--or did I?\n",
    "lostNumbers  --eval cell to see a secret message..."
   ]
  },
  {
   "cell_type": "markdown",
   "metadata": {},
   "source": [
    "All data in Haskell is *Immutable* which is a fancy word for you can\n",
    "never change a value once it is created... This seems silly at first \n",
    "but has the number 42 every changed during your life time? Nope! and \n",
    "it never will.\n",
    "you have to give the two lists a name to reuse it anywhere. So lets\n",
    "call our new list say 'newList'"
   ]
  },
  {
   "cell_type": "code",
   "execution_count": null,
   "metadata": {},
   "outputs": [],
   "source": [
    "newList = lostNumbers ++ [100,99,98]\n",
    "newList   -- will print it out below"
   ]
  },
  {
   "cell_type": "markdown",
   "metadata": {},
   "source": [
    "Names are important in Haskell. you need to use really good names cuz \n",
    "they are around 'forever' ... well at least while your program is running\n",
    "Let look at another way to 'grow' a list:    segway... *the colon* is what we use and it's name is 'cons' which is short for 'construct'."
   ]
  },
  {
   "cell_type": "code",
   "execution_count": null,
   "metadata": {},
   "outputs": [],
   "source": [
    "-- Oh yeah a String in haskell is a list of 'char' or characters.\n",
    "\n",
    "-- 'colon t' is a command that lets you  see the 'type' of something\n",
    "-- types are like HUGE in haskell.\n",
    ":t \"Some string\"\n",
    "-- and its not 'cons' either ... "
   ]
  },
  {
   "cell_type": "code",
   "execution_count": null,
   "metadata": {},
   "outputs": [],
   "source": [
    "-- That double colon in the output above is called 'has type' and has\n",
    "--nothing to do with 'cons' either\n",
    "--Here is 'cons'\n",
    "'A' : \" small cat\"\n",
    "--or\n",
    "42 : [1,2,3]\n",
    "--how about we stick the cat string onto the 42 list. will that work?\n",
    "42 : [1,2,3] ++ 'A' : \" small cat\"\n",
    "-- go head and try it"
   ]
  },
  {
   "cell_type": "markdown",
   "metadata": {},
   "source": [
    "Oh thats alot of RED stuff! Yeah you cant stick lists of strings\n",
    "onto lists of numbers in haskell. Each list can only have a single\n",
    "'type'. remember that homo-stuff word... don't say it!"
   ]
  },
  {
   "cell_type": "code",
   "execution_count": null,
   "metadata": {},
   "outputs": [],
   "source": [
    "-- lets look at some stuff that is == 'equal' remember Bool?\n",
    "[1,2,3] == 1:2:3:[]\n",
    "['a','b','c','d'] == 'a':'b':'c':'d':[]\n",
    "\"abcd\" == 'a':'b':'c':'d':[]"
   ]
  },
  {
   "cell_type": "code",
   "execution_count": null,
   "metadata": {},
   "outputs": [],
   "source": [
    "{-\n",
    "Thats alot of stuff printed out but in the end you see 'True'\n",
    " why... cuz they are.\n",
    " the right side is equal to the left side. So it evaluated to 'True'\n",
    " the right side is 'sugar'd or 'frosted' I like to say!\n",
    " do you remember 'lazy' yea everyone is!\n",
    " its just alot less keys to press ... oh my fingers are tired!\n",
    " OK thats alot of gibber/jabber lets get back to writing haskell\n",
    "-}\n",
    "\n",
    "\"Steve Buscemi\" !! 6\n",
    "\n",
    "-- what the hell is that 'bang' bang' == !!\n",
    "-- Shift+Enter to find out....\n",
    "\n",
    "-- {- blah,blah,blah -}  is how you do a block-comment"
   ]
  },
  {
   "cell_type": "code",
   "execution_count": null,
   "metadata": {},
   "outputs": [],
   "source": [
    "-- !! is how you pull out the 'n'th item in a list. computer people \n",
    "-- start counting at zero,one,two... lazy and fussy are we!\n",
    "-- lists can contain other lists like this:\n",
    "[[1,2,3],[10,9,8],[42]]\n",
    "-- programmers like the number 42 and the word 'foo' I'm not sure why?"
   ]
  },
  {
   "cell_type": "code",
   "execution_count": null,
   "metadata": {
    "collapsed": true
   },
   "outputs": [],
   "source": [
    "--see if you make a list hold another list or two\n",
    "--you have to put the comas and braces just SOOOOOO!\n",
    "\n",
    "myNestedList = undefined\n",
    "\n",
    "-- replace 'undefined' with your nested list.\n",
    "-- then Shift+Enter to run it.... I'm not going to tell you that\n",
    "-- anymore... the shifting thing that is."
   ]
  },
  {
   "cell_type": "code",
   "execution_count": null,
   "metadata": {},
   "outputs": [],
   "source": [
    "--Lists can also be compared to each other \n",
    "--using > greater-than, < less-than and >= or <= or == or /=\n",
    "--Lists are compared in lexicographical ... from the left one at a time.\n",
    "[3,2,1] > [2,1,0]\n",
    "[3,2,1] > [2,20,100]\n",
    "[1,3,42] > [2,4,43]\n",
    "[2,3,4] /= [2,42,43]"
   ]
  },
  {
   "cell_type": "code",
   "execution_count": null,
   "metadata": {},
   "outputs": [],
   "source": [
    "--see if you can write two lists that are close but not quite equal\n",
    "--using 'chars' witch are just 'a' or 'G' or 'c' or 'q'\n",
    "--chars are compared alphabetically so 'a' < 'b' or is it?\n",
    "\n",
    "'a' > 'b'\n",
    "'z' > 'a'\n",
    "-- ['a','c','e'] ? ['a','c', 'f']\n",
    "-- remove the -- just above and fill in the ? with <,>,==, or @"
   ]
  },
  {
   "cell_type": "markdown",
   "metadata": {},
   "source": [
    "![alt text](http://s3.amazonaws.com/lyah/listmonster.png \"head/tail/bug\")\n"
   ]
  },
  {
   "cell_type": "code",
   "execution_count": null,
   "metadata": {},
   "outputs": [],
   "source": [
    "--another way to pick apart lists is to use 'head' and 'tail'\n",
    "head [1,2,3,4]\n",
    "tail [1,2,3,4]\n",
    "head []  --what is the head of nothing? oh no more 'red-ink'"
   ]
  },
  {
   "cell_type": "code",
   "execution_count": null,
   "metadata": {},
   "outputs": [],
   "source": [
    "--haskell also has a 'last' function for lists\n",
    "last [1,2,3,4]\n",
    "--and 'init'\n",
    "init [1,2,3,4]"
   ]
  },
  {
   "cell_type": "code",
   "execution_count": null,
   "metadata": {},
   "outputs": [],
   "source": [
    "--'cycle' takes a list and cycles it into an infine list --ooohh!\n",
    "--'take' trims it off so your computer won't catch on fire!\n",
    "take 42 (cycle ['a'..'z'])"
   ]
  },
  {
   "cell_type": "markdown",
   "metadata": {},
   "source": [
    "I'm gonna skip over type-classes cuz they are over my head as such!\n",
    "we will revisit them shortly.\n",
    "\n",
    "Next up is: Function Syntax and specifically 'pattern matching'"
   ]
  },
  {
   "cell_type": "code",
   "execution_count": null,
   "metadata": {},
   "outputs": [],
   "source": [
    "--you specify a pattern to which some data should conform and if\n",
    "--it does you 'deconstruct' the data according to those patterns\n",
    "\n",
    "--trivial example--\n",
    "lucky :: (Integral a) => a -> String\n",
    "lucky 7 = \"LUCKY NUMBER SEVEN\"\n",
    "lucky x = \"Sorry, you're out of luck, pal!\"\n",
    "\n",
    "lucky 42\n",
    "lucky 7"
   ]
  },
  {
   "cell_type": "code",
   "execution_count": null,
   "metadata": {},
   "outputs": [],
   "source": [
    "--here is how you could use pattern matching to return a number/String\n",
    "--from guessing from one..five\n",
    "\n",
    "sayMe :: (Integral a) => a -> String\n",
    "sayMe 1 = \"One!\"\n",
    "sayMe 2 = \"Two!\"\n",
    "sayMe 3 = \"Three!\"\n",
    "sayMe 4 = \"Four!\"\n",
    "sayMe 5 = \"Five!\"\n",
    "sayMe x = \"Not between 1 and 5\"\n",
    "\n",
    "sayMe 4\n",
    "sayMe 2\n",
    "sayMe 42"
   ]
  },
  {
   "cell_type": "markdown",
   "metadata": {},
   "source": [
    "---\n",
    "\n",
    "```haskell\n",
    "factorial :: (Integral a) => a -> a\n",
    "factorial 0 = 1  -- when factorial matches 0 it returns 1\n",
    "factorial n = n * factorial (n - 1)\n",
    "```\n",
    "calling factorial 3 ...\n",
    "\n",
    "factorial is not =0 so it tries 3 * factorial 2 ..recurses again\n",
    "\n",
    "factorial is not =0 so it tries 3 * (2 * factorial 1) ..recures again\n",
    "\n",
    "factorial is not =0 so it tries 3 * (2 * (1 factorial 0)) ...\n",
    "\n",
    "here since we defined factorial 0 = 1 our function 'expands/resolves' \n",
    "\n",
    "into:\n",
    "\n",
    "3 * (2 * (1 * 0))   --substitute 0 for 1\n",
    "\n",
    "3 * (2 * (1 * 1))   --reduces to\n",
    "\n",
    "3 * (2 * 1)         --reduces to\n",
    "\n",
    "3 * 2               --reduces to\n",
    "\n",
    "6\n"
   ]
  },
  {
   "cell_type": "code",
   "execution_count": null,
   "metadata": {},
   "outputs": [],
   "source": [
    "factorial :: (Integral a) => a -> a\n",
    "factorial 0 = 1  -- when factorial 0 hits is just returns 1 and finishes\n",
    "factorial n = n * factorial (n - 1)\n",
    "--more on recursion comming up...\n",
    "\n",
    "factorial 3"
   ]
  },
  {
   "cell_type": "code",
   "execution_count": null,
   "metadata": {},
   "outputs": [],
   "source": [
    "--patterns must be 'exhaustive'...cover all inputs...\n",
    "\n",
    "--here is some pattern matching on adding 2 tuples...\n",
    "\n",
    "addVectors :: (Num a) => (a,a) -> (a,a) -> (a,a) --two pairs for params \n",
    "addVectors (x1, y1) (x2, y2) = (x1 + x2, y1 + y2)\n",
    "--and call it with:\n",
    "addVectors (3,5)(6,2)"
   ]
  },
  {
   "cell_type": "code",
   "execution_count": null,
   "metadata": {},
   "outputs": [],
   "source": [
    "--here is how you DIY --fst/snd for triple-tuples\n",
    "-- the underscores mean we don't care about that pattern/position\n",
    "first :: (a, b, c) -> a\n",
    "first (x, _, _) = x\n",
    "\n",
    "second :: (a, b, c) -> b\n",
    "second (_, y, _) = y\n",
    "\n",
    "third :: (a, b, c) -> c\n",
    "third (_, _, z) = z\n",
    "\n",
    "first ('a', 'b', 'c') \n",
    "second ('a', 'b', 'c')\n",
    "third ('a', 'b', 'c')\n"
   ]
  },
  {
   "cell_type": "code",
   "execution_count": null,
   "metadata": {},
   "outputs": [],
   "source": [
    "--here we pattern match on a list-comprehension\n",
    "xs = [(1,3), (4,3), (2,4), (5,3), (5,6), (3,1)] \n",
    "[a + b | (a, b) <- xs]  -- and xs == the list of tuples above"
   ]
  },
  {
   "cell_type": "code",
   "execution_count": null,
   "metadata": {},
   "outputs": [],
   "source": [
    "--here is DIY head function --remember that cute inch-worm from before\n",
    "head' :: [a] -> a\n",
    "head' [] = error \"Can't call head on an empty list, dummy!\"\n",
    "head' (x:_) = x\n",
    "\n",
    "head' [4, 5, 6]\n",
    "head' [\"ghci\", \"build\", \"stack\"]\n",
    "head' []"
   ]
  },
  {
   "cell_type": "code",
   "execution_count": null,
   "metadata": {},
   "outputs": [],
   "source": [
    "--your turn... didn't think you had to do any more work ... Not!\n",
    "--write a function that shows the first and second items in a list\n",
    "--dont forget to make it 'exhaustive'\n",
    "--i'll write this much for you:\n",
    "\n",
    "\n",
    "tell :: (Show a) => [a] -> String\n",
    "tell [] = \"The list is empty\"\n",
    "tell (x:[]) = \"The list has one element: \" ++ show x\n",
    "-- show first and second items here\n",
    "-- show how to handle rest of 5 item list\n",
    "\n",
    "tell []\n",
    "tell ['a']\n",
    "tell ['a', 'b']\n",
    "tell ['a', 'b', 'c', 'd', 'e']\n"
   ]
  },
  {
   "cell_type": "code",
   "execution_count": null,
   "metadata": {},
   "outputs": [],
   "source": [
    "--lets try some more stuff with recursion\n",
    "\n",
    "length' :: (Num b) => [a] -> b\n",
    "length' [] = 0                --the length of an empty list is 0\n",
    "length' (_:xs) = 1 + length' xs \n",
    "--here we chopped of the head and call that 1\n",
    "--(+) the rest of the list\n",
    "--basically we keep chopping and adding 1 till we hit the [].\n",
    "--then add it all up\n",
    "\n",
    "length' \"Ham Bone\"\n",
    "length' \"Ham\"\n",
    "length' \"Bone\"\n"
   ]
  },
  {
   "cell_type": "code",
   "execution_count": null,
   "metadata": {},
   "outputs": [],
   "source": [
    "--lets do our own version of sum\n",
    "sum' :: (Num a) => [a] -> a\n",
    "sum' [] = 0                 --sometimes called base-case\n",
    "sum' (x:xs) = x + sum' xs\n",
    "--could it be that simple? indeed\n",
    "sum' [1,2,3,4]\n",
    "sum' [22,1,1]\n"
   ]
  },
  {
   "cell_type": "code",
   "execution_count": null,
   "metadata": {},
   "outputs": [],
   "source": [
    "--patterns are kinda like an alias \n",
    "-- xs@(x:y:ys) --so you can say 'xs' instead of '(x:y:ys)'\n",
    "--yet another form of lazy :)\n",
    "capital :: String -> String\n",
    "capital \"\" = \"Empty String, whoops!\"\n",
    "capital all@(x:xs) = \n",
    "  \"The first letter of \" ++ all ++ \" is \" ++ [x]\n",
    "\n",
    "capital \"Dracula\"\n",
    "capital \"TacoCat\""
   ]
  },
  {
   "cell_type": "markdown",
   "metadata": {},
   "source": [
    " ![alt text](http://s3.amazonaws.com/lyah/guards.png \"beedeater\")\n",
    " # Guards, guards!\n",
    " \n",
    " Instead of explaining 'guards' syntax, lets write some in code"
   ]
  },
  {
   "cell_type": "code",
   "execution_count": null,
   "metadata": {},
   "outputs": [],
   "source": [
    "--guards provide several bools --first True is eval'd.\n",
    "bmiTell :: (RealFloat a) => a -> String\n",
    "bmiTell bmi   --no '=' after function name/params \n",
    "  | bmi <= 18.5 = \"You're underweight\"\n",
    "  | bmi <= 25.0 = \"You're supposedly normal\"\n",
    "  | bmi <= 30.0 = \"You so big you scare my wife!\"\n",
    "  | otherwise   = \"You are a whale congrats!\"\n",
    "--otherwise = True --to make 'exhaustive' \n",
    "  \n",
    "bmiTell 17.5\n",
    "bmiTell 29.40\n",
    "bmiTell 42.42"
   ]
  },
  {
   "cell_type": "code",
   "execution_count": null,
   "metadata": {},
   "outputs": [],
   "source": [
    "--lets make our own max function. \n",
    "--two args must be comparible\n",
    "max' :: (Ord a) => a -> a -> a\n",
    "max' a b   -- no 'equals-sign'\n",
    "  | a > b = a\n",
    "  | otherwise = b\n",
    "  \n",
    "  \n",
    "max' 7 9\n",
    "max' 10 1\n",
    "max' 'a' 'z'"
   ]
  },
  {
   "cell_type": "code",
   "execution_count": null,
   "metadata": {},
   "outputs": [],
   "source": [
    "--lets write our own version of compare\n",
    "\n",
    ":t compare  --ghci version\n",
    "\n",
    "myCompare :: (Ord a) => a -> a -> Ordering\n",
    "\n",
    "a `myCompare` b   --defined as infix `sometimes` is better\n",
    "  | a > b = GT\n",
    "  | a == b = EQ\n",
    "  | otherwise = LT\n",
    " \n",
    ":t myCompare \n",
    "compare 3 2\n",
    "3 `myCompare` 4\n",
    "myCompare 42 42\n"
   ]
  },
  {
   "cell_type": "code",
   "execution_count": null,
   "metadata": {},
   "outputs": [],
   "source": [
    "--OK now!  -thats how you begin again after finishing and \n",
    "--aren't sure what's next\n",
    "--Oh yeah! Where? ...were we...\n",
    "--'where' can be used with guards to keep things DRY.\n",
    "--here is our lastest bmi function:\n",
    "\n",
    "{- \n",
    "bmiTell :: (RealFloat a) => a -> a -> String  \n",
    "bmiTell weight height  \n",
    "    | weight / height ^ 2 <= 18.5 = \"You're underweight, you emo, you!\"  \n",
    "    | weight / height ^ 2 <= 25.0 = \"You're supposedly normal. Pffft, I bet you're ugly!\"  \n",
    "    | weight / height ^ 2 <= 30.0 = \"You're fat! Lose some weight, fatty!\"  \n",
    "    | otherwise                   = \"You're a whale, congratulations!\"  \n",
    "-}    \n",
    "\n",
    "-- and here it is using 'where'    \n",
    "\n",
    "bmiTell':: (RealFloat a) => a -> a -> String\n",
    "bmiTell' weight height\n",
    "  | bmi <= 18.5 = \"Your underweight,...\"\n",
    "  | bmi <= 25.0 = \"Your normal, more or less\"\n",
    "  | bmi <= 30.0 = \"You so fat!\"\n",
    "  | otherwise =  \"Your a whale, conrats\"\n",
    "  where bmi = weight / height ^ 2\n",
    "\n",
    "  \n",
    "bmiTell' 85 1.90  "
   ]
  },
  {
   "cell_type": "code",
   "execution_count": null,
   "metadata": {},
   "outputs": [],
   "source": [
    "--here is a bmiCalc that returns a list of bmi's\n",
    "calcBmis :: (RealFloat a) => [(a, a)] -> [a]\n",
    "calcBmis xs = [bmi w h | (w, h) <- xs]\n",
    "  where bmi weight height = weight / height ^ 2\n",
    "  \n",
    "calcBmis [(85, 1.90),(81, 1.90), (78, 1.90)]"
   ]
  },
  {
   "cell_type": "markdown",
   "metadata": {},
   "source": [
    "![alt text](http://s3.amazonaws.com/lyah/letitbe.png \"george\")"
   ]
  },
  {
   "cell_type": "code",
   "execution_count": null,
   "metadata": {},
   "outputs": [],
   "source": [
    "--'Let it be' was sung by Paul not George!\n",
    "--'let'<bindings>'in' <expression> haskell is sung by Alanzo C.!\n",
    "4 * (let a = 9 in a + 1) +2   --see what i mean about 42's\n",
    "--they can also be used as functions in local scope*\n",
    "[let square x = x * x in (square 5, square 3, square 2)]\n",
    "--will this work?\n",
    "(let a = 100; b = 200; c = 300 \n",
    "   in a*b*c,\n",
    " let foo = \"Hey \"; bar = \"there!\" \n",
    "   in foo ++ bar)"
   ]
  },
  {
   "cell_type": "code",
   "execution_count": null,
   "metadata": {
    "scrolled": true
   },
   "outputs": [],
   "source": [
    "--looks like it did! dammn!\n",
    "--'lets' look at some more examples\n",
    "let zoot x y z = x * y + z\n",
    "zoot 3 9 2\n",
    "let boot x y z = x * y + z in boot 3 4 2\n",
    "--is 'boot' still in scope?  no- not the mouthwash silly\n",
    "boot --outside of let expression it is out of scope. don't!\n"
   ]
  },
  {
   "cell_type": "markdown",
   "metadata": {},
   "source": [
    "# Case expressions in Haskell\n",
    "![alt text](http://s3.amazonaws.com/lyah/case.png \"case X of\")"
   ]
  },
  {
   "cell_type": "code",
   "execution_count": null,
   "metadata": {},
   "outputs": [],
   "source": [
    "--both of these are 'interchangeable'\n",
    "--one is just a sugar frosted version of the other\n",
    "--guess which ?\n",
    "head' :: [a] -> a\n",
    "head' [] = error \"Empty lists have no head\"\n",
    "head' (x:_) = x\n",
    "--or\n",
    "head_ :: [a] -> a\n",
    "head_ xs =\n",
    "  case xs of\n",
    "    [] -> error \"Empty lists tell no lies\"\n",
    "    (x:_) -> x\n",
    "    \n",
    "\n",
    "head' [1,2,3,4]\n",
    "\n",
    "head_ [2,3,4,5]\n",
    " \n",
    "head_ []"
   ]
  },
  {
   "cell_type": "code",
   "execution_count": null,
   "metadata": {},
   "outputs": [],
   "source": [
    "--one more case for case's\n",
    "describeList :: [a] -> String\n",
    "describeList xs = \n",
    "  \"The list is \" ++\n",
    "    case xs of\n",
    "      [] -> \"empty\"\n",
    "      [x] -> \"a singleton list\"\n",
    "      xs -> \"a longer list\"\n",
    "      \n",
    "describeList []\n",
    "describeList [2]\n",
    "describeList [2,3,4]\n",
    "      \n",
    "    "
   ]
  },
  {
   "cell_type": "markdown",
   "metadata": {},
   "source": [
    "next up \n",
    "# Recursion\n",
    "\n",
    "![alt text](http://s3.amazonaws.com/lyah/recursion.png \"nestedNests\")"
   ]
  },
  {
   "cell_type": "code",
   "execution_count": null,
   "metadata": {},
   "outputs": [],
   "source": [
    "--In haskell recursion is important ... declare what something 'is'\n",
    "                                    -- not 'how' you get it.\n",
    "--it is mandatory that we look at the \n",
    "--fibonacci secquence yet again:\n",
    "\n",
    "fib 0 = 0\n",
    "fib 1 = 1\n",
    "fib n = fib (n-1) + fib (n-2)\n",
    "\n",
    "fib 20"
   ]
  },
  {
   "cell_type": "code",
   "execution_count": null,
   "metadata": {},
   "outputs": [],
   "source": [
    "--Maximum awesome-ness\n",
    "--maximum' :: (Ord a) => [a] -> a\n",
    "\n",
    "maximum_ [] = error \"maximum of empty list is just dum!\"\n",
    "maximum_ [x] = x\n",
    "maximum_ (x:xs) = max x (maximum_ xs)\n",
    "--maximum of a lsit is the max of head and maximum of tail\n",
    "\n",
    ":t max\n",
    ":t maximum_  \n",
    "\n",
    "maximum_ [22,42,33,9]\n",
    "maximum_ [2,5,7]\n",
    "max 2 (maximum_ [5,7])\n",
    "maximum_ [] --look out you dummie!"
   ]
  },
  {
   "cell_type": "code",
   "execution_count": null,
   "metadata": {},
   "outputs": [],
   "source": [
    "--Haskell-prelude version\n",
    ":t replicate\n",
    "replicate 3 5\n",
    "\n",
    "--our DIY version\n",
    "\n",
    "\n",
    "replicate_ n x\n",
    "  | n <= 0 = []\n",
    "  | otherwise = x:replicate_ (n-1) x\n",
    ":t replicate_\n",
    "replicate_ 5 3"
   ]
  },
  {
   "cell_type": "markdown",
   "metadata": {},
   "source": [
    "![alt text](http://s3.amazonaws.com/lyah/painter.png \"thingInAthing\")"
   ]
  },
  {
   "cell_type": "code",
   "execution_count": null,
   "metadata": {},
   "outputs": [],
   "source": [
    ":t take -- prelude version for comparison sake'\n",
    "\n",
    "take' :: (Num i, Ord i) => i -> [a] -> [a]\n",
    "take' n _\n",
    "  | n <= 0 = []\n",
    "take' _ [] = []\n",
    "take' n (x:xs) = x : take' (n-1) xs\n",
    "\n",
    "take' 3 [4,3,2,1]"
   ]
  },
  {
   "cell_type": "code",
   "execution_count": null,
   "metadata": {},
   "outputs": [],
   "source": [
    "--reverse simply reverses a list. no kidding wow-wee\n",
    ":t reverse -- again for comparisonism\n",
    "\n",
    "reverse' :: [a]-> [a]\n",
    "reverse' [] = [] -- look a nothing in the rearview mirror/ same-nothing\n",
    "reverse' (x:xs) = reverse' xs ++ [x] --rev' tail and stick head back on it\n",
    "\n",
    "reverse' [] \n",
    "reverse' [5,4,3,2,1]\n",
    "reverse' ['c','b','a']"
   ]
  },
  {
   "cell_type": "code",
   "execution_count": null,
   "metadata": {},
   "outputs": [],
   "source": [
    "--ok now lets look at repeat/repeat/repeat/repeat...\n",
    ":t repeat -- you know why? don't play dum with me!\n",
    "\n",
    "repeat' :: a -> [a]\n",
    "repeat' x = x:repeat' x --could that possibly work? yeah FOREVER!\n",
    "--thats why you need to 'take' just so much\n",
    "\n",
    "\n",
    "take 5 (repeat' 3)  --now that's better\n",
    "\n",
    "take 5 repeat' 3   --error take does not take 3 args but two....\n",
    "                    --don't even mention repeat is totally 'foo-barred'"
   ]
  },
  {
   "cell_type": "code",
   "execution_count": null,
   "metadata": {},
   "outputs": [],
   "source": [
    "--now comes 'zip' which take two lists and 'zips' them together...\n",
    ":t zip -- again for compareishness , i like it...\n",
    "\n",
    "zip' :: [a] -> [b] -> [(a,b)]\n",
    "zip' _ [] = []\n",
    "zip' [] _ = []\n",
    "zip' (x:xs) (y:ys) = (x,y):zip' xs ys  --why i never!\n",
    "\n",
    "zip' [1,2,3] ['a','b','c', 'd']"
   ]
  },
  {
   "cell_type": "markdown",
   "metadata": {},
   "source": [
    "![alt text](http://s3.amazonaws.com/lyah/quickman.png \"space-dude\")"
   ]
  },
  {
   "cell_type": "markdown",
   "metadata": {},
   "source": [
    "# Quick, sort!"
   ]
  },
  {
   "cell_type": "code",
   "execution_count": null,
   "metadata": {},
   "outputs": [],
   "source": [
    "-- I've been looking forward to using him!!!\n",
    "\n",
    "--and now a classic algorIthmism 'Quick-sort' \n",
    "\n",
    "quicksort :: (Ord a) => [a] -> [a]\n",
    "quicksort [] = []\n",
    "quicksort (x:xs) =\n",
    "  let smallerSorted = quicksort [a | a <- xs, a <= x]\n",
    "      biggerSorted = quicksort [a | a <- xs, a > x]\n",
    "   -- |need to be flush @ smaller... and bigger...\n",
    "  in smallerSorted ++ [x] ++ biggerSorted\n",
    "  \n",
    "--tesing 1,2,3\n",
    "quicksort [10,2,5,3,1,6,7,4,2,3,4,8,9] \n",
    "quicksort \"the quick brown fox jumps over the lazy dog\"\n",
    "-- did not see that comming!\n",
    "\n",
    "-- for diaramma below\n",
    "quicksort [5,1,9,4,6,7,3]"
   ]
  },
  {
   "cell_type": "markdown",
   "metadata": {},
   "source": [
    "* this is a direct cut/paste from origin-master l.y.a.h.f.g.g (CL)\n",
    "\n",
    "So if we have, say [5,1,9,4,6,7,3] and we want to sort it, this algorithm will first take the head, which is 5 and then put it in the middle of two lists that are smaller and bigger than it. So at one point, you'll have [1,4,3] ++ [5] ++ [9,6,7]. We know that once the list is sorted completely, the number 5 will stay in the fourth place since there are 3 numbers lower than it and 3 numbers higher than it. Now, if we sort [1,4,3] and [9,6,7], we have a sorted list! We sort the two lists using the same function. Eventually, we'll break it up so much that we reach empty lists and an empty list is already sorted in a way, by virtue of being empty. Here's an illustration:"
   ]
  },
  {
   "cell_type": "markdown",
   "metadata": {},
   "source": [
    "![atl text](http://s3.amazonaws.com/lyah/quicksort.png \"Booyah!\")"
   ]
  },
  {
   "cell_type": "markdown",
   "metadata": {},
   "source": [
    "An element that is in place and won't move anymore is represented in orange. If you read them from left to right, you'll see the sorted list. Although we chose to compare all the elements to the heads, we could have used any element to compare against. In quicksort, an element that you compare against is called a pivot. They're in green here. We chose the head because it's easy to get by pattern matching. The elements that are smaller than the pivot are light green and elements larger than the pivot are dark green. The yellowish gradient thing represents an application of quicksort."
   ]
  },
  {
   "cell_type": "markdown",
   "metadata": {},
   "source": [
    "# Thinking recursively-ish\n",
    "![alt text](http://s3.amazonaws.com/lyah/brain.png \"brainVsBrain\")"
   ]
  },
  {
   "cell_type": "markdown",
   "metadata": {
    "collapsed": true
   },
   "source": [
    "a pattern is emerge'n here with this recursion thing\n",
    "\n",
    "1. define your base case \n",
    "2. define your function that does something to an element\n",
    "3. have that same function applied to the rest of the stuff\n",
    "\n"
   ]
  },
  {
   "cell_type": "markdown",
   "metadata": {},
   "source": [
    "# Higher Order Functions "
   ]
  },
  {
   "cell_type": "markdown",
   "metadata": {},
   "source": [
    "Functions that can take other functions as parameters and can return a function as a result-value is concidered a \"HOA\" /see above"
   ]
  },
  {
   "cell_type": "markdown",
   "metadata": {},
   "source": [
    "all functions in haskell are 'curried' which basically means they take one parameter at a time and return a function that\n",
    "either takes the next parameter or if it's the last param returns the final value."
   ]
  },
  {
   "cell_type": "code",
   "execution_count": null,
   "metadata": {},
   "outputs": [],
   "source": [
    "--lets look at some sample code:\n",
    "\n",
    "max 4 5 == (max 4) 5  --they should be equal\n",
    "\n",
    "\n"
   ]
  },
  {
   "cell_type": "code",
   "execution_count": null,
   "metadata": {},
   "outputs": [],
   "source": [
    "--partial application or partially applied functions\n",
    "-- offensively simple version:\n",
    "multThree :: (Num a) => a -> a -> a -> a\n",
    "multThree x y z = x * y * z\n",
    "multTwoWithNine = multThree 9\n",
    "--call function \n",
    "multTwoWithNine 2 3\n",
    "--name a partially applied multTwoWithNine function\n",
    "multWithEighteen = multTwoWithNine 2\n",
    "--call new function with one more arg.\n",
    "multWithEighteen 10"
   ]
  },
  {
   "cell_type": "code",
   "execution_count": null,
   "metadata": {},
   "outputs": [],
   "source": [
    "--lets create a function that takes a number and \n",
    "--compairs it to 100 and return GT LT or EQ\n",
    "compareWithHundred :: (Num a, Ord a) => a -> Ordering\n",
    "compareWithHundred x = compare 100 x\n",
    "--call with different params\n",
    "compareWithHundred 99\n",
    "compareWithHundred 101\n",
    "compareWithHundred 100"
   ]
  },
  {
   "cell_type": "code",
   "execution_count": null,
   "metadata": {},
   "outputs": [],
   "source": [
    "--the same function can be written this way also:\n",
    "compareWithHundred' = compare 100\n",
    "--call function with same args as above\n",
    "compareWithHundred' 99\n",
    "compareWithHundred' 101\n",
    "compareWithHundred' 100"
   ]
  },
  {
   "cell_type": "code",
   "execution_count": null,
   "metadata": {},
   "outputs": [],
   "source": [
    "--Infix functions can also be parially applied using 'sections'\n",
    "--to section apply parens and only add arg to one side only\n",
    "--like this:\n",
    "divideByTen :: (Floating a) => a -> a\n",
    "divideByTen = (/ 10)\n",
    "-- call function with other side argument\n",
    "divideByTen 200\n",
    "-- same as\n",
    "200 / 10\n",
    "-- or\n",
    "(/10) 200"
   ]
  },
  {
   "cell_type": "code",
   "execution_count": null,
   "metadata": {},
   "outputs": [],
   "source": [
    "--what about just calling multThree 3 4 ... lets see\n",
    "multThree 3 4"
   ]
  },
  {
   "cell_type": "code",
   "execution_count": null,
   "metadata": {},
   "outputs": [],
   "source": [
    "--that message is saying there is no 'Show' typeclass for the \n",
    "--function (a0 -> a0)\n",
    "--just name it 'some' 'thing' and give it the last arg.\n",
    "--as in:\n",
    "someThing = multThree 3 4\n",
    "someThing 1"
   ]
  },
  {
   "cell_type": "markdown",
   "metadata": {},
   "source": [
    "![alt text](http://s3.amazonaws.com/lyah/bonus.png \"drunk!\")"
   ]
  },
  {
   "cell_type": "code",
   "execution_count": null,
   "metadata": {},
   "outputs": [],
   "source": [
    "-- i love the drunk octopi! not sure why\n",
    "-- this function takes a function and then applies it twice to \n",
    "-- 'something' ... not the previous 'some' 'thing'\n",
    "\n",
    "applyTwice :: (a -> a) -> a -> a\n",
    "applyTwice f x = f (f x)\n",
    "\n",
    "-- how would you call this function?\n",
    "\n",
    "applyTwice (+3) 3\n",
    "applyTwice (/10) 100\n",
    "applyTwice (multThree 2 2) 1\n",
    "applyTwice (3:) [42]"
   ]
  },
  {
   "cell_type": "code",
   "execution_count": null,
   "metadata": {},
   "outputs": [],
   "source": [
    ":t zipWith  -- from the mother ship!"
   ]
  },
  {
   "cell_type": "code",
   "execution_count": null,
   "metadata": {},
   "outputs": [],
   "source": [
    "--here is our version\n",
    "zipWith' :: (a -> b -> c) -> [a] -> [b] -> [c]\n",
    "zipWith' _ [] _ = []\n",
    "zipWith' f (x:xs) (y:ys) = f x y : zipWith' f xs ys\n",
    "\n",
    "-- here is what it can do:\n",
    "\n",
    "zipWith' (+) [4,2,5,6] [2,6,2,3]\n",
    "zipWith' max [4,2,5,6] [2,6,2,3]\n",
    "zipWith' (zipWith' (*)) [[4,2,5,6],[2,6,2,3],[4,2,5,6]]\n",
    "                        [[2,6,2,3],[4,2,5,6],[2,6,2,3]]"
   ]
  },
  {
   "cell_type": "code",
   "execution_count": null,
   "metadata": {
    "collapsed": true
   },
   "outputs": [],
   "source": [
    "flip' :: (a -> b -> c) -> (b -> a -> c)\n",
    "flip' f = g\n",
    "  where g x y = f y x\n",
    "-- this is equivalent\n",
    "flip_ f y x = f x y"
   ]
  },
  {
   "cell_type": "markdown",
   "metadata": {},
   "source": [
    "zip function straight up:  "
   ]
  },
  {
   "cell_type": "code",
   "execution_count": null,
   "metadata": {
    "scrolled": true
   },
   "outputs": [],
   "source": [
    "zip [1,2,3,4,5] \"hello\""
   ]
  },
  {
   "cell_type": "markdown",
   "metadata": {},
   "source": [
    "and then 'flip'd"
   ]
  },
  {
   "cell_type": "code",
   "execution_count": null,
   "metadata": {},
   "outputs": [],
   "source": [
    "flip' zip [1,2,3,4,5] \"hello\""
   ]
  },
  {
   "cell_type": "code",
   "execution_count": null,
   "metadata": {},
   "outputs": [],
   "source": [
    "zipWith div[4,2,5,6] [2,6,2,3]\n",
    "zipWith (flip' div) [4,2,5,6] [2,6,2,3]\n",
    "\n",
    "-- not sure what this use case would be ..."
   ]
  },
  {
   "cell_type": "markdown",
   "metadata": {},
   "source": [
    "Here comes the bread and butter \n",
    "# map \n",
    "and\n",
    "# filter"
   ]
  },
  {
   "cell_type": "code",
   "execution_count": null,
   "metadata": {},
   "outputs": [],
   "source": [
    "-- map uses a function  of (a to b),\n",
    "-- with an arg of list of [a's] \n",
    "-- and returns a list of [b's]\n",
    "\n",
    ":t map -- from prejude\n",
    "map :: (a -> b) -> [a] -> [b]\n",
    "map _ [] = []\n",
    "map f (x:xs) = f x : map f xs\n",
    "\n",
    "-- lets use it and see what we get...\n",
    "\n",
    "map (+3) [1,2,3,4,5]\n",
    "map (^2) [1,2,3,4,5]\n",
    "map (replicate 4) [3..7]\n",
    "map fst [(1,4),(3,5),(6,3),(2,6)]"
   ]
  },
  {
   "cell_type": "code",
   "execution_count": null,
   "metadata": {},
   "outputs": [],
   "source": [
    "-- filter uses a predicate function of (True or False),\n",
    "-- with an arg of list of [a's]\n",
    "-- and returns  list of [a's] that meet the predicate\n",
    "\n",
    "filter :: (a -> Bool) -> [a] -> [a]\n",
    "filter _ [] = []\n",
    "filter p (x:xs)\n",
    "    | p x = x : filter p xs\n",
    "    | otherwise = filter p xs\n",
    "    \n",
    "-- now lets call it some\n",
    "\n",
    "filter (> 3) [1,2,3,4,5,6,7]\n",
    "\n",
    "let notNull x = not (null x) \n",
    "  in filter notNull [[1,2,3],[],[3,4,5],[2,2],[],[],[]]  \n",
    "\n",
    "filter (`elem` ['A'..'Z']) \"i lauGh At You BecAuse u r aLL the Same\"\n",
    "\n"
   ]
  },
  {
   "cell_type": "code",
   "execution_count": null,
   "metadata": {},
   "outputs": [],
   "source": [
    ":t \"GAYBALLS\"\n",
    "\n",
    "-- yeah so \"GAYBALLS\" is a list of Char so it returning a list."
   ]
  },
  {
   "cell_type": "code",
   "execution_count": null,
   "metadata": {},
   "outputs": [],
   "source": [
    "--Here is our previous 'Quick-sort' using filter\n",
    "\n",
    "quicksort_ :: (Ord a) => [a] -> [a]\n",
    "quicksort_ [] = []\n",
    "quicksort_ (x:xs) =\n",
    "    let smallerSorted = quicksort_ (filter (<=x) xs)\n",
    "        biggerSorted = quicksort_ (filter (>x) xs)\n",
    "    in smallerSorted ++ [x] ++ biggerSorted\n",
    "    \n",
    "quicksort_ [3,6,5,2,8,9]"
   ]
  },
  {
   "cell_type": "markdown",
   "metadata": {},
   "source": [
    "next in line is \n",
    "# takeWhile\n"
   ]
  },
  {
   "cell_type": "code",
   "execution_count": null,
   "metadata": {},
   "outputs": [],
   "source": [
    "--find the sum of all odd squares that are smaller than 10,000\n",
    "\n",
    "sum (takeWhile (<10000) (filter odd (map (^2) [1..])))\n",
    "\n",
    "--looks kinda lisp'e with all the closing parens......\n"
   ]
  },
  {
   "cell_type": "code",
   "execution_count": null,
   "metadata": {},
   "outputs": [],
   "source": [
    "nums = map (^2) [1..] \n",
    "oddnums = filter odd nums\n",
    "lastTime = takeWhile (< 10000) oddnums\n",
    "sum lastTime\n"
   ]
  },
  {
   "cell_type": "code",
   "execution_count": null,
   "metadata": {},
   "outputs": [],
   "source": [
    "let nums = map (^2)[1..]\n",
    "    filter odd nums = oddnums\n",
    "    lastChunk = takeWhile (< 10000) oddnums\n",
    "    in sum lastChunk"
   ]
  },
  {
   "cell_type": "markdown",
   "metadata": {},
   "source": [
    "Collatz sequencs: \n"
   ]
  },
  {
   "cell_type": "code",
   "execution_count": null,
   "metadata": {},
   "outputs": [],
   "source": [
    "chain :: (Integral a) => a -> [a]\n",
    "chain 1 = [1] --base/edge case\n",
    "chain n \n",
    "    | even n = n:chain (n `div` 2)  --if even divide it by 2\n",
    "    | odd n = n:chain (n * 3 + 1)   --if odd do this\n",
    "    \n",
    "-- lets see what it does\n",
    "chain 5\n",
    "chain 10\n",
    "chain 1\n",
    "chain 30"
   ]
  },
  {
   "cell_type": "markdown",
   "metadata": {},
   "source": [
    "Now what we want to know is this: for all starting numbers between 1 and 100, how many chains have a length greater than 15? First off, we'll write a function that produces a chain:"
   ]
  },
  {
   "cell_type": "code",
   "execution_count": null,
   "metadata": {
    "collapsed": true
   },
   "outputs": [],
   "source": [
    "numLongChains :: Int\n",
    "numLongChains = \n",
    "  length (filter isLong (map chain [1..100]))\n",
    "    where isLong xs = length xs > 15 \n",
    "    \n",
    "\n"
   ]
  },
  {
   "cell_type": "code",
   "execution_count": null,
   "metadata": {},
   "outputs": [],
   "source": [
    "-- first we 'map chain' to a 'range' to get list of chains\n",
    "map chain [1..5] --used smaller range for smaller output\n",
    "\n",
    "-- we need to define isLong function\n",
    "isLong_ xs = length xs > 15\n",
    "\n",
    "-- next we 'length filter f map chain' gives num of list you have > 15\n",
    "length (filter isLong_ (map chain [1..100]))\n"
   ]
  },
  {
   "cell_type": "markdown",
   "metadata": {},
   "source": [
    "*Lambda* == anonymous function == `(\\xs -> length xs > 15)`"
   ]
  },
  {
   "cell_type": "markdown",
   "metadata": {},
   "source": [
    "![alt text](http://s3.amazonaws.com/lyah/lambda.png \"lambda-Man\")"
   ]
  },
  {
   "cell_type": "code",
   "execution_count": null,
   "metadata": {},
   "outputs": [],
   "source": [
    "--since 'isLong' is only used once we could use a 'lambda'\n",
    "-- a 'lamba is an unnamed function you only use once.\n",
    "numLongChains_ :: Int\n",
    "numLongChains_ = \n",
    "  length (filter (\\xs -> length xs > 15)(map chain [1..100]))\n",
    "-- this is a lambda: (\\xs -> length xs > 15)\n",
    "numLongChains_ "
   ]
  },
  {
   "cell_type": "code",
   "execution_count": null,
   "metadata": {},
   "outputs": [],
   "source": [
    "listOfFunctions = map (*) [0..] -- [0.. is an infinite list..]\n",
    "-- (listOfFunctions !! 4) returns partial function == (4)  \n",
    "(listOfFunctions !! 4) 5  -- and multiplies it by (4)5 or 4*5\n",
    "                          "
   ]
  },
  {
   "cell_type": "code",
   "execution_count": null,
   "metadata": {},
   "outputs": [],
   "source": [
    "zipWith (\\a b -> (a * 30 + 3) / b)[5,4,3][1,2,3]\n"
   ]
  },
  {
   "cell_type": "code",
   "execution_count": null,
   "metadata": {
    "scrolled": true
   },
   "outputs": [],
   "source": [
    "-- this is long-hand-version of above...\n",
    "((5 * 30) + 3) / 1\n",
    "((4 * 30) + 3) / 2\n",
    "((3 * 30) + 3) / 3"
   ]
  },
  {
   "cell_type": "code",
   "execution_count": null,
   "metadata": {},
   "outputs": [],
   "source": [
    "--pattern match in lambdas can produce runtime errors...\n",
    "--maybe not a great idea after all.\n",
    "map (\\(a, b) -> a + b) [(1,2),(3,5),(6,3),(2,6),(2,5)]  \n",
    "--what do you think this will produce?\n",
    "-- it should add the first,second into a list [3,8,9...]"
   ]
  },
  {
   "cell_type": "markdown",
   "metadata": {},
   "source": [
    "what is this? Why Not: uncurry (+)"
   ]
  },
  {
   "cell_type": "code",
   "execution_count": null,
   "metadata": {},
   "outputs": [],
   "source": [
    "--maybe 'they' mean to do:\n",
    "map uncurry (+) [(1,2),(3,5),(6,3),(2,6),(2,5)]  "
   ]
  },
  {
   "cell_type": "code",
   "execution_count": null,
   "metadata": {
    "collapsed": true
   },
   "outputs": [],
   "source": [
    "not sure what the 'heck' that error above means either!!!\n",
    "\n",
    "I miss my elmlang error messages... EVAN... HELP...\n",
    "\n"
   ]
  },
  {
   "cell_type": "code",
   "execution_count": null,
   "metadata": {},
   "outputs": [],
   "source": [
    "addThree x y z = x+y+z \n",
    "addThreeLambda = \\x -> \\y -> \\z -> x+y+z\n",
    "addThree 1 2 3\n",
    "addThreeLambda 1 2 3"
   ]
  },
  {
   "cell_type": "markdown",
   "metadata": {},
   "source": [
    "![alt text](http://s3.amazonaws.com/lyah/origami.png \"oragami\")"
   ]
  }
 ],
 "metadata": {
  "kernelspec": {
   "display_name": "Haskell",
   "language": "haskell",
   "name": "haskell"
  },
  "language_info": {
   "codemirror_mode": "ihaskell",
   "file_extension": ".hs",
   "name": "haskell",
   "version": "8.0.2"
  }
 },
 "nbformat": 4,
 "nbformat_minor": 1
}
