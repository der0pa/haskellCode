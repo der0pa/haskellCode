{
 "cells": [
  {
   "cell_type": "markdown",
   "metadata": {},
   "source": [
    "5.1 Basic concepts"
   ]
  },
  {
   "cell_type": "markdown",
   "metadata": {},
   "source": [
    "in mathematics the comprehenson notation can be used to construct   \n",
    "new sets from existing sets."
   ]
  },
  {
   "cell_type": "code",
   "execution_count": 4,
   "metadata": {},
   "outputs": [
    {
     "data": {
      "text/plain": [
       "[1,4,9,16,25]"
      ]
     },
     "metadata": {},
     "output_type": "display_data"
    }
   ],
   "source": [
    "-- in haskell we could do this:\n",
    "[x^2 | x <- [1..5]]\n",
    "-- the symbol | is read as 'such that'\n",
    "-- the symbol <- is read as 'is drawn from'"
   ]
  },
  {
   "cell_type": "code",
   "execution_count": 5,
   "metadata": {},
   "outputs": [
    {
     "data": {
      "text/plain": [
       "[(1,4),(1,5),(2,4),(2,5),(3,4),(3,5)]"
      ]
     },
     "metadata": {},
     "output_type": "display_data"
    }
   ],
   "source": [
    "-- a list of all possible pairs from two lists of nums:\n",
    "[(x,y) | x <- [1,2,3], y <- [4,5]]"
   ]
  },
  {
   "cell_type": "code",
   "execution_count": 3,
   "metadata": {},
   "outputs": [
    {
     "data": {
      "text/plain": [
       "[(1,1),(1,2),(1,3),(2,2),(2,3),(3,3)]"
      ]
     },
     "metadata": {},
     "output_type": "display_data"
    }
   ],
   "source": [
    "-- a list of all 'ordered' pairings of elements from the list [1..3]\n",
    "[(x,y) | x <- [1..3], y <- [x..3]]"
   ]
  },
  {
   "cell_type": "code",
   "execution_count": 2,
   "metadata": {},
   "outputs": [
    {
     "data": {
      "text/plain": [
       "[1,2,3,4,5,6,7,8,9]"
      ]
     },
     "metadata": {},
     "output_type": "display_data"
    }
   ],
   "source": [
    "-- the library function 'concat' on a list of lists\n",
    "concat :: [[a]] -> [a] \n",
    "concat xss = [x | xs <- xss, x <- xs]\n",
    "concat [[1,2,3],[4,5,6],[7,8,9]] "
   ]
  },
  {
   "cell_type": "code",
   "execution_count": 1,
   "metadata": {},
   "outputs": [
    {
     "data": {
      "text/plain": [
       "[2,3,5]"
      ]
     },
     "metadata": {},
     "output_type": "display_data"
    }
   ],
   "source": [
    "-- the \"I don't-care about this arg\" \n",
    "-- 'underscore' pattern is used in this list of pairs\n",
    "firsts :: [(a,b)] -> [a]\n",
    "firsts ps = [x | (x,_) <- ps]\n",
    "firsts [(2,4),(3,5),(5,2)] "
   ]
  },
  {
   "cell_type": "code",
   "execution_count": 6,
   "metadata": {},
   "outputs": [
    {
     "data": {
      "text/plain": [
       "8"
      ]
     },
     "metadata": {},
     "output_type": "display_data"
    }
   ],
   "source": [
    "-- the library function 'length' can be written using list-comp.\n",
    "-- here the generator \"_ <- xs\" serves as a counter\n",
    "length :: [a] -> Int\n",
    "length xs = sum [1 | _ <- xs]\n",
    "length [1,2,3,4,5,6,7,8] "
   ]
  },
  {
   "cell_type": "markdown",
   "metadata": {},
   "source": [
    "5.2 Guards"
   ]
  },
  {
   "cell_type": "markdown",
   "metadata": {},
   "source": [
    "List comprehensions can also use logical expressions called *guards*"
   ]
  },
  {
   "cell_type": "code",
   "execution_count": 7,
   "metadata": {},
   "outputs": [
    {
     "data": {
      "text/plain": [
       "[2,4,6,8,10]"
      ]
     },
     "metadata": {},
     "output_type": "display_data"
    }
   ],
   "source": [
    "-- if a guard is True that value is retained.\n",
    "[x | x <- [1..10], even x]"
   ]
  },
  {
   "cell_type": "code",
   "execution_count": null,
   "metadata": {},
   "outputs": [],
   "source": [
    "-- factors in math are a set of numbers that can be multiplied to get \n",
    "-- a positive number\n",
    "factors :: Int -> [Int]\n",
    "factors n = [x | x <- [1..n], n `mod` x == 0]\n",
    "--this produced a list of nums from 1..n that have 0 rem after div.\n",
    "\n",
    "factors 12\n",
    "factors 7"
   ]
  },
  {
   "cell_type": "code",
   "execution_count": null,
   "metadata": {},
   "outputs": [],
   "source": [
    "-- recall that an integer greater than one is 'prime' if its only\n",
    "-- positive factors are 1 and the number itself\n",
    "prime :: Int -> Bool\n",
    "prime n = factors n == [1,n]\n",
    "\n",
    "prime 12\n",
    "prime 7"
   ]
  },
  {
   "cell_type": "code",
   "execution_count": null,
   "metadata": {},
   "outputs": [],
   "source": [
    "-- now we can create a list all prime nums up to a given num\n",
    "-- we will use 'prime' which uses 'factors' to define 'primes'\n",
    "primes :: Int -> [Int]\n",
    "primes n = [x | x <- [2..n], prime x]\n",
    "\n",
    "primes 42"
   ]
  },
  {
   "cell_type": "code",
   "execution_count": null,
   "metadata": {},
   "outputs": [],
   "source": [
    "-- and finally an example i don't understand\n",
    "-- we can represent a lookup table by using a list of pairs (k,v)\n",
    "-- then for any type of key that supports equality \n",
    "-- we can create a function that returns a list of all v that are\n",
    "-- associated with a given key\n",
    "find :: Eq a => a -> [(a,b)] -> [b] \n",
    "find k t = [v | (k',v) <- t, k == k'] \n",
    "\n",
    "find 'b' [('a',1),('b',2),('c',3),('b',4)]"
   ]
  }
 ],
 "metadata": {
  "kernelspec": {
   "display_name": "Haskell",
   "language": "haskell",
   "name": "haskell"
  },
  "language_info": {
   "codemirror_mode": "ihaskell",
   "file_extension": ".hs",
   "name": "haskell",
   "version": "8.0.2"
  }
 },
 "nbformat": 4,
 "nbformat_minor": 1
}
