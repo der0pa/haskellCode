{
 "cells": [
  {
   "cell_type": "markdown",
   "metadata": {},
   "source": [
    "4.5 the almighty Lambda"
   ]
  },
  {
   "cell_type": "code",
   "execution_count": 1,
   "metadata": {},
   "outputs": [
    {
     "data": {
      "text/plain": [
       "4"
      ]
     },
     "metadata": {},
     "output_type": "display_data"
    }
   ],
   "source": [
    "(\\x -> x + x)2"
   ]
  },
  {
   "cell_type": "code",
   "execution_count": 2,
   "metadata": {},
   "outputs": [
    {
     "data": {
      "text/plain": [
       "43"
      ]
     },
     "metadata": {},
     "output_type": "display_data"
    }
   ],
   "source": [
    "-- they can be used to formalize the meaning of curried definitions\n",
    "add :: Int -> Int -> Int\n",
    "add x y = x + y\n",
    "--can be understood as meaning\n",
    "add' :: Int -> (Int -> Int) --takes an Int and returns a (function)\n",
    "add' = \\x -> (\\y -> x + y)\n",
    "\n",
    "add42 = add' 42\n",
    "add42 1"
   ]
  },
  {
   "cell_type": "markdown",
   "metadata": {},
   "source": [
    "the library function `const` returns a 'constant' function   \n",
    "that always produces a given value as such:   \n",
    "```haskell\n",
    "const :: a -> b -> a\n",
    "const x _ = x\n",
    "```   \n",
    "define `const` in a way that makes explicit that it   \n",
    "returns a function as a result:"
   ]
  },
  {
   "cell_type": "code",
   "execution_count": null,
   "metadata": {},
   "outputs": [],
   "source": [
    "-- add parens to the type and lambda to function body\n",
    "const' :: a -> (b -> a)\n",
    "const' x = \\_ -> x\n",
    "\n",
    "const' 42 24\n",
    "const' \"foo\" \"bar\""
   ]
  },
  {
   "cell_type": "markdown",
   "metadata": {},
   "source": [
    "lambda expressions can be used if function is only used once.   \n",
    "```haskell\n",
    "odds :: Int -> [Int]\n",
    "odds n = map f [0..n-1]\n",
    "  where f x = x*2 + 1\n",
    "  ```   \n",
    "function f is only referenced once so we can use a lambda expression"
   ]
  },
  {
   "cell_type": "code",
   "execution_count": null,
   "metadata": {},
   "outputs": [],
   "source": [
    "odds' :: Int -> [Int]\n",
    "odds' n = map (\\x -> x*2 + 1)[0..n-1]\n",
    "\n",
    "odds' 42"
   ]
  }
 ],
 "metadata": {
  "kernelspec": {
   "display_name": "Haskell",
   "language": "haskell",
   "name": "haskell"
  },
  "language_info": {
   "codemirror_mode": "ihaskell",
   "file_extension": ".hs",
   "name": "haskell",
   "version": "8.2.2"
  }
 },
 "nbformat": 4,
 "nbformat_minor": 1
}
