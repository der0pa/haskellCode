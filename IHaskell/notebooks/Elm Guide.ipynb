{
 "cells": [
  {
   "cell_type": "code",
   "execution_count": 12,
   "metadata": {
    "collapsed": true
   },
   "outputs": [],
   "source": [
    "module ElmGuide exposing (..)\n",
    "\n",
    "import Html exposing (Html, h1, h2, Attribute, button, div, input, text)\n",
    "import Html.Attributes exposing (..)\n",
    "import Html.Events exposing (onClick, onInput)\n",
    "import Http\n",
    "import Json.Decode as Decode\n",
    "import Random exposing (generate)"
   ]
  },
  {
   "cell_type": "code",
   "execution_count": 13,
   "metadata": {
    "collapsed": true
   },
   "outputs": [],
   "source": [
    "main =\n",
    "  Html.program \n",
    "    { init = init \n",
    "    , view = view\n",
    "    , update = update\n",
    "    , subscriptions = subscriptions\n",
    "    }"
   ]
  },
  {
   "cell_type": "code",
   "execution_count": 14,
   "metadata": {
    "collapsed": true
   },
   "outputs": [],
   "source": [
    "-- Model --\n",
    "type alias Model = \n",
    "  { topic : String\n",
    "  , gifUrl : String\n",
    "  }"
   ]
  },
  {
   "cell_type": "code",
   "execution_count": 15,
   "metadata": {
    "collapsed": true
   },
   "outputs": [],
   "source": [
    "type Msg \n",
    "  = MorePlease\n",
    "  | NewGif (Result Http.Error String)"
   ]
  },
  {
   "cell_type": "code",
   "execution_count": 16,
   "metadata": {
    "collapsed": true
   },
   "outputs": [],
   "source": [
    "-- Update --\n",
    "update : Msg -> Model -> (Model, Cmd Msg)\n",
    "update msg model =\n",
    "  case msg of\n",
    "    MorePlease ->\n",
    "      (model, getRandomGif model.topic)\n",
    "\n",
    "    NewGif (Ok newUrl) ->\n",
    "      ({ model | gifUrl = newUrl}, Cmd.none)\n",
    "    \n",
    "    NewGif (Err _) ->\n",
    "      (model, Cmd.none)"
   ]
  },
  {
   "cell_type": "code",
   "execution_count": 17,
   "metadata": {
    "collapsed": true
   },
   "outputs": [],
   "source": [
    "getRandomGif : String -> Cmd Msg\n",
    "getRandomGif topic =\n",
    "  let\n",
    "    url =\n",
    "      \"https://api.giphy.com/v1/gifs/random?api_key=dc6zaTOxFJmzC&tag=\" ++ topic\n",
    "\n",
    "    request =\n",
    "      Http.get url decodeGifUrl\n",
    "  in\n",
    "      Http.send NewGif request"
   ]
  },
  {
   "cell_type": "code",
   "execution_count": 18,
   "metadata": {
    "collapsed": true
   },
   "outputs": [],
   "source": [
    "decodeGifUrl : Decode.Decoder String\n",
    "decodeGifUrl = \n",
    "  Decode.at [\"data\", \"image_url\"] Decode.string"
   ]
  },
  {
   "cell_type": "code",
   "execution_count": 19,
   "metadata": {
    "collapsed": true
   },
   "outputs": [],
   "source": [
    "-- View --\n",
    "view : Model -> Html Msg\n",
    "view model =\n",
    "  div []\n",
    "    [ h2 [] [text model.topic]\n",
    "    , button [ onClick MorePlease][text \"More Please!\"]\n",
    "    ]"
   ]
  },
  {
   "cell_type": "code",
   "execution_count": 20,
   "metadata": {
    "collapsed": true
   },
   "outputs": [],
   "source": [
    "-- Subscriptions --\n",
    "subscriptions : Model -> Sub Msg\n",
    "subscriptions model =\n",
    "  Sub.none"
   ]
  },
  {
   "cell_type": "code",
   "execution_count": 21,
   "metadata": {
    "collapsed": true
   },
   "outputs": [],
   "source": [
    "-- Init\n",
    "init : (Model, Cmd Msg)\n",
    "init =\n",
    "  ( Model topic \"DudeWaiting.gif\"\n",
    "  , getRandomGif topic\n",
    "  )"
   ]
  },
  {
   "cell_type": "code",
   "execution_count": 22,
   "metadata": {},
   "outputs": [
    {
     "data": {
      "text/html": [
       "<pre>I cannot find module 'Http'.\n",
       "\n",
       "Module 'ElmGuide' is trying to import it.\n",
       "\n",
       "Potential problems could be:\n",
       "  * Misspelled the module name\n",
       "  * Need to add a source directory or new dependency to elm-package.json\n",
       "</pre>"
      ]
     },
     "metadata": {},
     "output_type": "display_data"
    }
   ],
   "source": [
    "-- compile-code"
   ]
  }
 ],
 "metadata": {
  "kernelspec": {
   "display_name": "Elm",
   "language": "elm",
   "name": "elm"
  },
  "language_info": {
   "codemirror_mode": "elm",
   "file_extension": ".elm",
   "mimetype": "text/x-elm",
   "name": "elm"
  }
 },
 "nbformat": 4,
 "nbformat_minor": 2
}
