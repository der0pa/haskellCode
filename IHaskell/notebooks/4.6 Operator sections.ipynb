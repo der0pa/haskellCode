{
 "cells": [
  {
   "cell_type": "markdown",
   "metadata": {},
   "source": [
    "### Operator sections   \n",
    "\n",
    "(+)  is the addition function      \n",
    "(1+) is the successor function      \n",
    "(1/) is the recprocation function   \n",
    "(*2) is the doubling function   \n",
    "(/2) is the halving function  \n",
    "\n",
    "if # is an operator they can be formalized using   \n",
    "lambda expression as follows:\n",
    "\n",
    "```haskell\n",
    "(#) = \\x -> (\\y -> x # y)\n",
    "(x#) = \\y -> x # y\n",
    "(#y) = \\x -> x # y\n",
    "```"
   ]
  },
  {
   "cell_type": "code",
   "execution_count": 11,
   "metadata": {
    "collapsed": false
   },
   "outputs": [
    {
     "data": {
      "text/plain": [
       "6"
      ]
     },
     "metadata": {},
     "output_type": "display_data"
    },
    {
     "data": {
      "text/plain": [
       "3"
      ]
     },
     "metadata": {},
     "output_type": "display_data"
    },
    {
     "data": {
      "text/plain": [
       "0.25"
      ]
     },
     "metadata": {},
     "output_type": "display_data"
    },
    {
     "data": {
      "text/plain": [
       "42"
      ]
     },
     "metadata": {},
     "output_type": "display_data"
    },
    {
     "data": {
      "text/plain": [
       "21.0"
      ]
     },
     "metadata": {},
     "output_type": "display_data"
    }
   ],
   "source": [
    "(+) 1 5   -- \\x -> (\\y -> x+y)   \n",
    "(1+) 2    -- \\y -> 1+y\n",
    "(1/) 4    -- \\y -> 1/y \n",
    "(*2) 21   -- \\x -> x*2\n",
    "(/2) 42   -- \\x -> x/2"
   ]
  },
  {
   "cell_type": "code",
   "execution_count": null,
   "metadata": {
    "collapsed": true
   },
   "outputs": [],
   "source": []
  }
 ],
 "metadata": {
  "kernelspec": {
   "display_name": "Haskell",
   "language": "haskell",
   "name": "haskell"
  },
  "language_info": {
   "codemirror_mode": "ihaskell",
   "file_extension": ".hs",
   "name": "haskell",
   "version": "7.10.2"
  }
 },
 "nbformat": 4,
 "nbformat_minor": 0
}
