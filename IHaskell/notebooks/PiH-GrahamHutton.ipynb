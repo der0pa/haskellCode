{
 "cells": [
  {
   "cell_type": "markdown",
   "metadata": {},
   "source": [
    "### Functions 1.1"
   ]
  },
  {
   "cell_type": "code",
   "execution_count": null,
   "metadata": {},
   "outputs": [],
   "source": [
    "--trivial example\n",
    "double x = x + x"
   ]
  },
  {
   "cell_type": "code",
   "execution_count": null,
   "metadata": {},
   "outputs": [],
   "source": [
    "double 42"
   ]
  },
  {
   "cell_type": "code",
   "execution_count": null,
   "metadata": {},
   "outputs": [],
   "source": [
    "double (double 42)"
   ]
  },
  {
   "cell_type": "markdown",
   "metadata": {},
   "source": [
    "### Functional programming 1.2\n",
    "\n",
    "*what exactly is 'functional' programming*? \n",
    "\n",
    "It's a style of programming in which the basic building blocks of computation is the application of functions to arguments.   \n",
    "\n",
    "Side-effect free functions provide the same set of outputs given the same set on inputs. **every-time-guaranteed**\n",
    "\n",
    "Functions can contain other functions as arguments.   \n",
    "Higher order functions can also return functions as outputs  \n",
    "\n",
    "under-the hood all function are *curried* meaning they only take a single argument at a time.  "
   ]
  },
  {
   "cell_type": "code",
   "execution_count": null,
   "metadata": {},
   "outputs": [],
   "source": [
    "sum [1..5]  --apply the [..]   expands to: sum[1,2,3,4,5,]   \n",
    "            --becomes 1+2+3+4+5  \n",
    "            --returns the value : 15"
   ]
  },
  {
   "cell_type": "code",
   "execution_count": null,
   "metadata": {},
   "outputs": [],
   "source": [
    "sum $take 5 [1..100]\n",
    "sum (take 5 [1..100])     --same as above, $ == ()"
   ]
  },
  {
   "cell_type": "markdown",
   "metadata": {},
   "source": [
    "### Features of Haskell 1.3"
   ]
  },
  {
   "cell_type": "markdown",
   "metadata": {},
   "source": [
    "1. Concise programs  \n",
    "2. Powerful type system\n",
    "3. List comprehensions\n",
    "4. Recursive function\n",
    "5. Higher-order functions\n",
    "6. Effectful functions --the M word\n",
    "7. Generic functions\n",
    "8. Lazy evaluation\n",
    "9. Equational reasoning\n"
   ]
  },
  {
   "cell_type": "markdown",
   "metadata": {},
   "source": [
    "### Historical background  1.4"
   ]
  },
  {
   "cell_type": "markdown",
   "metadata": {},
   "source": [
    "TODO:"
   ]
  },
  {
   "cell_type": "markdown",
   "metadata": {},
   "source": [
    "### Just a taste of code 1.5"
   ]
  },
  {
   "cell_type": "code",
   "execution_count": null,
   "metadata": {},
   "outputs": [],
   "source": [
    "sum' [] = 0\n",
    "sum' (n:ns) = n + sum ns"
   ]
  },
  {
   "cell_type": "code",
   "execution_count": null,
   "metadata": {},
   "outputs": [],
   "source": [
    "sum' [1,2,3,4,5]"
   ]
  },
  {
   "cell_type": "code",
   "execution_count": null,
   "metadata": {},
   "outputs": [],
   "source": [
    ":type sum'"
   ]
  },
  {
   "cell_type": "code",
   "execution_count": null,
   "metadata": {},
   "outputs": [],
   "source": [
    ":t sum"
   ]
  },
  {
   "cell_type": "markdown",
   "metadata": {},
   "source": [
    "### qsort"
   ]
  },
  {
   "cell_type": "code",
   "execution_count": null,
   "metadata": {},
   "outputs": [],
   "source": [
    "qsort []=[]\n",
    "qsort (x:xs)= qsort smaller ++ [x] ++ qsort larger\n",
    "              where\n",
    "                smaller = [a | a <- xs, a <= x]\n",
    "                larger  = [b | b <- xs, b >  x]\n",
    "               "
   ]
  },
  {
   "cell_type": "code",
   "execution_count": null,
   "metadata": {},
   "outputs": [],
   "source": [
    "qsort [33, 52, 21, 33, 64, 100, 12, 0]"
   ]
  },
  {
   "cell_type": "code",
   "execution_count": null,
   "metadata": {},
   "outputs": [],
   "source": [
    "qsort [3,5,1,4,2]"
   ]
  },
  {
   "cell_type": "code",
   "execution_count": null,
   "metadata": {},
   "outputs": [],
   "source": []
  }
 ],
 "metadata": {
  "kernelspec": {
   "display_name": "Haskell",
   "language": "haskell",
   "name": "haskell"
  },
  "language_info": {
   "codemirror_mode": "ihaskell",
   "file_extension": ".hs",
   "name": "haskell",
   "version": "8.2.2"
  }
 },
 "nbformat": 4,
 "nbformat_minor": 2
}
