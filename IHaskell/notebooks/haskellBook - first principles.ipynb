{
 "cells": [
  {
   "cell_type": "markdown",
   "metadata": {},
   "source": [
    "#### A jupyter-ized Haskell Book\n",
    "###### Haskell Programming from first principles   \n",
    "\n",
    "Christopher Allen   \n",
    "Julie Moronuki"
   ]
  },
  {
   "cell_type": "markdown",
   "metadata": {},
   "source": [
    "#### basic structure of the *lamba calculus*  \n",
    "\n",
    "$\\lambda x.x$    \n",
    "          = is the identity function  \n",
    "          \n",
    "$\\lambda x.$    \n",
    "          = is called the 'head'  \n",
    "          \n",
    "$x$    \n",
    "          = is a single parameter of the function   \n",
    "          \n",
    "$ .x$   \n",
    "          = is the body (everything after the .)  \n",
    "          \n",
    "\n",
    "the dot (.) separates the parameters from the function body\n",
    "\n",
    "\n"
   ]
  },
  {
   "cell_type": "markdown",
   "metadata": {},
   "source": [
    "#### alpha equivalance   \n",
    "\n",
    "$\\lambda x.x$  \n",
    "\n",
    "$\\lambda d.d$   \n",
    "\n",
    "$\\lambda z.z$   \n",
    "\n",
    "= are all the same function   - they are equivalent"
   ]
  },
  {
   "cell_type": "markdown",
   "metadata": {},
   "source": [
    "#### beta reduction   \n",
    "\n",
    "we apply the function above to 2   \n",
    "\n",
    "$(\\lambda x.x) 2$  \n",
    "\n",
    "$[x:=2]$  substitute x for 2\n",
    "\n",
    "the only bound variable is the single x  \n",
    "\n",
    "then by dropping the head our function returns ***2***   \n",
    "\n",
    "which is probably why it is called the *identity function*\n"
   ]
  },
  {
   "cell_type": "markdown",
   "metadata": {},
   "source": [
    "how about $(\\lambda x.x +1)$ applied to 2   \n",
    "\n",
    "$(\\lambda x.x +1) 2$   \n",
    "\n",
    "$[x:=2]$   \n",
    "\n",
    "$(2 + 1)$  returns **3**"
   ]
  },
  {
   "cell_type": "markdown",
   "metadata": {},
   "source": [
    "the identity function applied to another lambda abstraction:   \n",
    "\n",
    "$(\\lambda x.x)(\\lambda y.y)$   \n",
    "\n",
    "$[x:=(\\lambda y.y)]$   \n",
    "binding $x -with- \\lambda y.y$    \n",
    "\n",
    "$\\lambda y.y$     \n",
    "is fully reduced"
   ]
  },
  {
   "cell_type": "markdown",
   "metadata": {},
   "source": [
    "again with an addiotional argument   \n",
    "$(\\lambda x,x)(\\lambda y.y)z$   \n",
    "\n",
    "because the lambda calculus is left associative   \n",
    "this:   \n",
    "\n",
    "$(\\lambda x.x)(\\lambda y.y)z$  \n",
    "\n",
    "can be rewritten as:  \n",
    "\n",
    "$((\\lambda x.x)(\\lambda y.y))z$   \n",
    "\n",
    "and reduced like this:   \n",
    "\n",
    "$((\\lambda x.x)(\\lambda y.y))z$   \n",
    "\n",
    "$[x:= (\\lambda y.y)]$  \n",
    "\n",
    "$(\\lambda y.y)z$   \n",
    "\n",
    "$[y:=z]$   \n",
    "\n",
    "$z$\n",
    "\n"
   ]
  },
  {
   "cell_type": "markdown",
   "metadata": {},
   "source": [
    "#### free variables  ... free as in not bound   \n",
    "\n",
    "$\\lambda x.xy$   \n",
    "\n",
    "here the $y$ is a *free* variable  \n",
    "because there is no $y$ in the head"
   ]
  },
  {
   "cell_type": "markdown",
   "metadata": {},
   "source": [
    "we can apply an argument $z$ to the above like this:   \n",
    "\n",
    "$(\\lambda x.xy)z$   \n",
    "\n",
    "because $x$ is the bound variable, all instances of $x$   \n",
    "are replaced with $z$   \n",
    "\n",
    "$(\\lambda[x:=z].xy)$   \n",
    "\n",
    "the head is eliminated and replace any $x$ in the body with $z$   \n",
    "\n",
    "so the final reduction returns:   \n",
    "\n",
    "$zy$\n"
   ]
  },
  {
   "cell_type": "markdown",
   "metadata": {},
   "source": [
    "#### curried functions   \n",
    "are functions that take just one argument   \n",
    "so with multiple arguments in the lambda calculus   \n",
    "the first reduction may well return another function   \n",
    "this is called a *higher-order* function   \n",
    "\n",
    "so this:  \n",
    "$\\lambda xy.xy$   \n",
    "\n",
    "is *sugar* for:   \n",
    "$\\lambda x.(\\lambda y.xy)$\n",
    "\n",
    "\n"
   ]
  },
  {
   "cell_type": "markdown",
   "metadata": {},
   "source": [
    "so suppose that we apply this to specific values   \n",
    "\n",
    "the identity function again   \n",
    "* $\\lambda x.x$   \n",
    "\n",
    "applied to $1$   \n",
    "* $(\\lambda x.x)1$ \n",
    "\n",
    "$x$ is bound to $1$   \n",
    "* $[x:=1]$   \n",
    " \n",
    "returns the identity of $1$ which is $1$   \n",
    "* $1$   \n"
   ]
  },
  {
   "cell_type": "markdown",
   "metadata": {},
   "source": [
    "mulitple arguments in a lambda expression  \n",
    "\n",
    "* $(\\lambda xy.xy)1 \\,2$   \n",
    "\n",
    "with explicit currying it becomes:  \n",
    "\n",
    "* $(\\lambda x(\\lambda y.xy))1 \\, 2$   \n",
    "\n",
    "* $[x:=1]$   \n",
    "\n",
    "* $(\\lambda y.1y)2$   \n",
    "\n",
    "* $[y:=2]$  \n",
    "\n",
    "* $1\\,2$\n",
    "\n"
   ]
  },
  {
   "cell_type": "markdown",
   "metadata": {},
   "source": [
    "lets try something a little more interesting:   \n",
    "\n",
    "* $\\lambda xy.xy$   \n",
    "\n",
    "* $(\\lambda xy.yx)(\\lambda z.a)1$    \n",
    "\n",
    "explicit currying becomes:   \n",
    "\n",
    "* $\\lambda x(\\lambda y.xy)(\\lambda z.a)1$   \n",
    "\n",
    "* $[x:=(\\lambda z.a)]$   \n",
    "\n",
    "* $ (\\lambda y.(\\lambda z.a)y)1$   \n",
    "\n",
    "* $[y:=1]$   \n",
    "\n",
    "* $(\\lambda z.a)1$   \n",
    "\n",
    "* $[z:=1]$   \n",
    "\n",
    "there is no $z$ in the body so there is nowhere to put a $1$   \n",
    "\n",
    "so the final reduction returns:   \n",
    "\n",
    "* $a$   \n",
    "\n",
    "most calculus materials refer to abstract variables rather than   \n",
    "concrete ones like above"
   ]
  },
  {
   "cell_type": "markdown",
   "metadata": {},
   "source": [
    "this example will use only abstract variables   \n",
    "\n",
    "1. $(\\lambda xyz.xz(yz))(\\lambda mn.m)(\\lambda p.p)$   \n",
    "\n",
    "make the currying explicit   \n",
    "\n",
    "2. $(\\lambda x.\\lambda y.\\lambda z.xz(yz))(\\lambda m.\\lambda n.m)(\\lambda p.p)$"
   ]
  },
  {
   "cell_type": "code",
   "execution_count": null,
   "metadata": {
    "collapsed": true
   },
   "outputs": [],
   "source": [
    "-- switching to code from markdown as it is to verbose to type.\n",
    "\n",
    "-- 1) (\\xyz.xz(yz))(\\mn.m)(\\p.p) --original\n",
    "       -- make currying explicit\n",
    "\n",
    "-- 2) (\\x.\\y.\\z.xz(yz))(\\m\\n.m)(\\p.p)\n",
    "         --sub  x      (\\m\\n.m)\n",
    "\n",
    "-- 3) (\\y.\\z(\\m\\n.m)z(yz))(\\p.p)\n",
    "              --sub   y   (\\p.p)\n",
    "\n",
    "-- 4) \\z(\\m\\n.m)(z)((\\p.p)z)\n",
    "--     |-- outermost lambda z irreducible no more args\n",
    "\n",
    "-- go inside terms one layer at a time until something can reduce\n",
    "--    \\z(\\m\\n.m)(z)((\\p.p)z)\n",
    "     --bind m-|  |--to arg z\n",
    "\n",
    "-- 5) \\z(\\n.z)((\\p.p)z\n",
    "-- bind   n   ((\\p.p)z)\n",
    "-- 6)       z       .z\n",
    "-- 7)      \\z.z\n",
    "-- 8)       z\n",
    "       --not completly sure how last steps happen\n"
   ]
  },
  {
   "cell_type": "code",
   "execution_count": null,
   "metadata": {
    "collapsed": true
   },
   "outputs": [],
   "source": [
    "--Intermission: Quivalence Exercises\n",
    "\n",
    "--  1) \\xy.xz\n",
    "--  b) \\mn.mz   -- Alpha equivalence\n",
    "\n",
    "--  2) \\xy.xxy\n",
    "--  c) \\a(\\b.aab)\n",
    "\n",
    "--  3) \\xyz.zx\n",
    "--  b) \\tos.st\n",
    "\n",
    "\n",
    "-- 1.7 Evaluation is simplification\n",
    "\n",
    "--beta normal form == no further lambdas to apply to arguments. In programming this corresponds to a fully evaluated expression/ fully executed program. Evaluation is a form of simplification in Haskell code. Normal form == beta normal form.\n",
    "\n",
    "-- 'Application' is what makes evaluation/simplification possible.\n",
    "\n",
    "-- (10 + 2) * 100 / 2  reduces or evaluates to 600.\n",
    "--     12   * 100 / 2\n",
    "--           1200 / 2\n",
    "--                600\n",
    "\n",
    "-- the identity function: \\x.x is fully reduced untill to apply arguments to it like :  (\\x.x)z -- it then can be reduced/simplified to:\n",
    "-- final result/evaluates to 'z' the identity of the argument 'z'.\n",
    "-- its beta normal form would be 'z'.\n",
    "\n",
    "-- 1.8 Combinators\n",
    "\n",
    "-- a combinator is a lambda term with no free variables. they only serve to 'combine' the arguments they are given.\n",
    "\n",
    "-- the following are combinators:\n",
    "-- 1) \\x.x\n",
    "-- 2) \\xy.x\n",
    "-- 3) \\xyz.xz(yz)\n",
    "\n",
    "-- the following are not combinators / they have one or more 'free' variables:\n",
    "-- 1) \\y.x -- y is bound(it is in head) but x if 'free'\n",
    "-- 2) \\x.xz -- x is bound but z is 'free'\n",
    "\n",
    "-- 1.9 Divergence\n",
    "\n",
    "-- some lambda terms are not reducable into beta normal form. it is because they 'diverge'. 'divergence'  \n",
    "-- here means the reduction process never terminate or ends. normally lambda terms will 'converge' \n",
    "-- into a beta normal form. but some will 'diverge' or never finish evaluating to a value.\n",
    "\n",
    "-- this lambda term is called omega and it 'diverges':\n",
    "-- 1) (\\x.xx)(\\x.xx)  x in the first lambda's head becomes the second lambda.\n",
    "-- 2) ([x := (\\x.xx)]xx)\n",
    "--    Using [var := expr] to denote what x is bound to.\n",
    "-- 3) (\\x.xx)(\\x.xx)\n",
    "--    substituting (\\x.xx) for each occurence of x. we end up where we started and this keeps going and going and going.\n",
    "--    so we say:  'omega diverges'\n",
    "--    this matters in programming. understanding what will terminate means understanding what programs will do useful \n",
    "-- work and return the answer we want.\n",
    "\n",
    "-- 1.10 Summary\n",
    "\n",
    "-- * functional programming is based on expressions that include variable or constant values, expressions \n",
    "-- combined with other expressions, and functions.\n",
    "\n",
    "-- * functions have a head and body that can be applied and reduced or evaluated to a resulting value.\n",
    "\n",
    "-- * variables may be bound in a fuction declaration and they  will have the same value when ever is in the same scope.\n",
    "\n",
    "-- * all functions in haskell take one argument and return one result.. and always the same output  with the same input\n",
    "\n",
    "-- * functions are a mapping of a set of inputs to a set of outputs. given the same input will always produce the same output.\n",
    "\n",
    "-- 1.11 chapter exercises\n",
    "\n",
    "-- 1) \\x.xxx   yes it is a combinator\n",
    "\n",
    "-- 2) \\xy.zx   no because it has 'free' variables\n",
    "\n",
    "-- 3) \\xyz.xy(zx) yes it is a combinator\n",
    "\n",
    "-- 4) \\xyz.xy(zxy)  yes it is a combinator\n",
    "\n",
    "-- 5) \\xy.xy(zxy)  no it has 'free' vaiables\n",
    "\n",
    "--    yeah i got them right but im introuble below\n",
    "\n",
    "--Normal form or diverge\n",
    "\n",
    "-- 1) \\x.xxx  does not diverge /only if it was applied to itself\n",
    "\n",
    "-- 2) (\\z.zz)(y.yy)  diverges  i'm pretty sure  yep it's omega again.\n",
    "\n",
    "-- 3) (\\x.xxx)z normal form is zzz\n",
    "\n",
    "--Beta reduce the following\n",
    "\n",
    "-- 1) (\\abc.cba)zz(\\wv.w)\n",
    "\n",
    "--    (\\a.\\b.\\c.cba)(z)z(\\w.\\v.w))   --explecit currying\n",
    "--                |  |                 drop \\a. head\n",
    "\n",
    "--    (\\b.\\c.cbz)(z)(\\w.\\v.w)\n",
    "--            |   |                    drop \\b. head\n",
    "\n",
    "--    (\\c.czz)(\\w.\\v.w)\n",
    "--        |   |-------|                drop \\c. head\n",
    "\n",
    "--    (\\w.\\v.w)(z)z\n",
    "--           |  |                      drop \\w. head\n",
    "\n",
    "--    (\\v.z)(z)\n",
    "--        |  |                         drop \\v. head\n",
    "\n",
    "--        z          evaluates to z\n",
    "\n",
    "-- did not do 2...6   todo\n",
    "\n",
    "-- 7)\n",
    "--    a) (\\xyz.xz(yz))(\\x.z)(\\x.a)\n",
    "--       add emplied lambda to introduce each arg.\n",
    "\n",
    "--    b) (\\x.\\y.\\z.xz(yz))(\\x.z)(\\x.a)\n",
    "--         *       |      |----|       drop \\x. in head\n",
    "\n",
    "--    c)     (\\y.\\z1.(\\x.z)z1(yz1))(\\x.a)\n",
    "--             *              |    |----|  drop \\y. in head\n",
    "\n",
    "--     d)         (\\z1.(\\x.z)(z1)((\\x.a)z1))\n",
    "--                       *    |   |----|    drop \\x. in head\n",
    "\n",
    "--     e)         (\\z1.z((\\x.a)(z1)))\n",
    "--                         *    **       drop \\x. z1\n",
    "\n",
    "--     f)           (\\z1.za)       ??????????? how ????????????\n",
    "\n",
    "-- this is not clear to me yet\n",
    "\n",
    "-- 1.13 Definitions\n",
    "\n",
    "-- 1) the 'lambda' in lambda calculus in the greek letter \\ is used to introduce, or abstract, arguments for binding in an expression.\n",
    "\n",
    "-- 2) a lambda 'abstraction' is an anonymous function or lambda term.\n",
    "--    (\\x.x + 1)\n",
    "\n",
    "-- 3) 'application' is how one evaluates lambdas, applying lambda to arguments until you run out of arguments to apply lambdas to.\n",
    "\n",
    "-- 4) 'lambda calculus' is a formal system for expressing programs.\n",
    "\n",
    "-- 5) 'normal order' is a common evaluation strategy in lambda calculi. by applying or beta reducing the leftmost outermost lambdas first.\n",
    "\n",
    "-- 'normal orderl is NOT how haskell code is evaluated. haskell code is evaluated in 'call-by-need' instead.\n"
   ]
  },
  {
   "cell_type": "markdown",
   "metadata": {},
   "source": [
    "#### hello, Haskell-2"
   ]
  },
  {
   "cell_type": "code",
   "execution_count": 2,
   "metadata": {},
   "outputs": [
    {
     "data": {
      "text/plain": [
       "4"
      ]
     },
     "metadata": {},
     "output_type": "display_data"
    }
   ],
   "source": [
    "-- lets look at some simple expressions in ghci -haskell repl\n",
    "\n",
    "2 + 2\n",
    "\n",
    "-- the result is shown just below"
   ]
  },
  {
   "cell_type": "code",
   "execution_count": 9,
   "metadata": {},
   "outputs": [
    {
     "data": {
      "text/plain": [
       "True"
      ]
     },
     "metadata": {},
     "output_type": "display_data"
    },
    {
     "data": {
      "text/plain": [
       "False"
      ]
     },
     "metadata": {},
     "output_type": "display_data"
    },
    {
     "data": {
      "text/plain": [
       "False"
      ]
     },
     "metadata": {},
     "output_type": "display_data"
    },
    {
     "data": {
      "text/plain": [
       "True"
      ]
     },
     "metadata": {},
     "output_type": "display_data"
    }
   ],
   "source": [
    "7 < 9     --less than will return 'True'\n",
    "7 > 9     --greater than will return 'False'\n",
    "7 == 9    --equal to will return 'False'\n",
    "7 /= 9    --not equal to will return 'True'"
   ]
  },
  {
   "cell_type": "code",
   "execution_count": 10,
   "metadata": {
    "collapsed": true
   },
   "outputs": [],
   "source": [
    "module SayHello where\n",
    "\n",
    "sayHello :: String -> IO ()\n",
    "sayHello x = putStrLn (\"Hello, \" ++ x ++ \"!\")"
   ]
  },
  {
   "cell_type": "code",
   "execution_count": 12,
   "metadata": {},
   "outputs": [
    {
     "data": {
      "text/plain": [
       "Hello, Haskell!"
      ]
     },
     "metadata": {},
     "output_type": "display_data"
    }
   ],
   "source": [
    ":load SayHello\n",
    "sayHello \"Haskell\""
   ]
  },
  {
   "cell_type": "markdown",
   "metadata": {},
   "source": [
    "***everything in haskell is an expression***"
   ]
  },
  {
   "cell_type": "code",
   "execution_count": 13,
   "metadata": {},
   "outputs": [
    {
     "data": {
      "text/plain": [
       "9"
      ]
     },
     "metadata": {},
     "output_type": "display_data"
    },
    {
     "data": {
      "text/plain": [
       "27"
      ]
     },
     "metadata": {},
     "output_type": "display_data"
    },
    {
     "data": {
      "text/plain": [
       "45"
      ]
     },
     "metadata": {},
     "output_type": "display_data"
    }
   ],
   "source": [
    "(1 + 2) * 3\n",
    "(4 + 5) * 3\n",
    "(10 + 5)* 3"
   ]
  },
  {
   "cell_type": "code",
   "execution_count": 15,
   "metadata": {},
   "outputs": [
    {
     "data": {
      "text/plain": [
       "9"
      ]
     },
     "metadata": {},
     "output_type": "display_data"
    },
    {
     "data": {
      "text/plain": [
       "27"
      ]
     },
     "metadata": {},
     "output_type": "display_data"
    },
    {
     "data": {
      "text/plain": [
       "45"
      ]
     },
     "metadata": {},
     "output_type": "display_data"
    }
   ],
   "source": [
    "-- common patterns can be abstracted into functions\n",
    "\n",
    "-- like this:\n",
    "\n",
    "triple x = x * 3\n",
    "\n",
    "triple 3\n",
    "triple 9\n",
    "triple 15"
   ]
  },
  {
   "cell_type": "code",
   "execution_count": 17,
   "metadata": {},
   "outputs": [
    {
     "data": {
      "text/plain": [
       "(1,4)"
      ]
     },
     "metadata": {},
     "output_type": "display_data"
    },
    {
     "data": {
      "text/plain": [
       "(1,4)"
      ]
     },
     "metadata": {},
     "output_type": "display_data"
    }
   ],
   "source": [
    "-- haskell has 'lazy' evaluation so:\n",
    "\n",
    "(\\f -> (1,2 + f))2\n",
    "\n",
    "-- reduces to 'weak-head-normal-form\n",
    "\n",
    "(1,2 + 2)\n",
    "\n",
    "-- the repl evaluated to a final value"
   ]
  },
  {
   "cell_type": "code",
   "execution_count": 18,
   "metadata": {},
   "outputs": [
    {
     "data": {
      "text/plain": [
       "78.5"
      ]
     },
     "metadata": {},
     "output_type": "display_data"
    },
    {
     "data": {
      "text/plain": [
       "314.0"
      ]
     },
     "metadata": {},
     "output_type": "display_data"
    },
    {
     "data": {
      "text/plain": [
       "50.24"
      ]
     },
     "metadata": {},
     "output_type": "display_data"
    }
   ],
   "source": [
    "-- write a function that generalizes the following\n",
    "\n",
    "3.14 * (5 * 5)\n",
    "3.14 * (10 * 10)\n",
    "3.14 * (4 * 4)"
   ]
  },
  {
   "cell_type": "code",
   "execution_count": 22,
   "metadata": {},
   "outputs": [
    {
     "data": {
      "text/plain": [
       "78.53982"
      ]
     },
     "metadata": {},
     "output_type": "display_data"
    },
    {
     "data": {
      "text/plain": [
       "314.15927"
      ]
     },
     "metadata": {},
     "output_type": "display_data"
    },
    {
     "data": {
      "text/plain": [
       "50.265484"
      ]
     },
     "metadata": {},
     "output_type": "display_data"
    }
   ],
   "source": [
    "-- function needs to :   pi * (x * x)\n",
    "piSqrFunction :: Float -> Float\n",
    "piSqrFunction x =\n",
    "  pi * (x * x)\n",
    "  \n",
    "piSqrFunction 5\n",
    "piSqrFunction 10\n",
    "piSqrFunction 4"
   ]
  },
  {
   "cell_type": "code",
   "execution_count": 26,
   "metadata": {},
   "outputs": [
    {
     "data": {
      "text/plain": [
       "2.5"
      ]
     },
     "metadata": {},
     "output_type": "display_data"
    },
    {
     "data": {
      "text/plain": [
       "2.5"
      ]
     },
     "metadata": {},
     "output_type": "display_data"
    },
    {
     "data": {
      "text/plain": [
       "2"
      ]
     },
     "metadata": {},
     "output_type": "display_data"
    },
    {
     "data": {
      "text/plain": [
       "2"
      ]
     },
     "metadata": {},
     "output_type": "display_data"
    }
   ],
   "source": [
    "-- infix operators + - * /\n",
    "\n",
    "10 / 4\n",
    "(/) 10 4\n",
    "-- move infix to prefix\n",
    "div 10 4\n",
    "10 `div` 4\n",
    "-- move prefix to infix"
   ]
  },
  {
   "cell_type": "code",
   "execution_count": 28,
   "metadata": {},
   "outputs": [
    {
     "data": {},
     "metadata": {},
     "output_type": "display_data"
    },
    {
     "data": {
      "text/html": [
       "<style>/* Styles used for the Hoogle display in the pager */\n",
       ".hoogle-doc {\n",
       "display: block;\n",
       "padding-bottom: 1.3em;\n",
       "padding-left: 0.4em;\n",
       "}\n",
       ".hoogle-code {\n",
       "display: block;\n",
       "font-family: monospace;\n",
       "white-space: pre;\n",
       "}\n",
       ".hoogle-text {\n",
       "display: block;\n",
       "}\n",
       ".hoogle-name {\n",
       "color: green;\n",
       "font-weight: bold;\n",
       "}\n",
       ".hoogle-head {\n",
       "font-weight: bold;\n",
       "}\n",
       ".hoogle-sub {\n",
       "display: block;\n",
       "margin-left: 0.4em;\n",
       "}\n",
       ".hoogle-package {\n",
       "font-weight: bold;\n",
       "font-style: italic;\n",
       "}\n",
       ".hoogle-module {\n",
       "font-weight: bold;\n",
       "}\n",
       ".hoogle-class {\n",
       "font-weight: bold;\n",
       "}\n",
       ".get-type {\n",
       "color: green;\n",
       "font-weight: bold;\n",
       "font-family: monospace;\n",
       "display: block;\n",
       "white-space: pre-wrap;\n",
       "}\n",
       ".show-type {\n",
       "color: green;\n",
       "font-weight: bold;\n",
       "font-family: monospace;\n",
       "margin-left: 1em;\n",
       "}\n",
       ".mono {\n",
       "font-family: monospace;\n",
       "display: block;\n",
       "}\n",
       ".err-msg {\n",
       "color: red;\n",
       "font-style: italic;\n",
       "font-family: monospace;\n",
       "white-space: pre;\n",
       "display: block;\n",
       "}\n",
       "#unshowable {\n",
       "color: red;\n",
       "font-weight: bold;\n",
       "}\n",
       ".err-msg.in.collapse {\n",
       "padding-top: 0.7em;\n",
       "}\n",
       ".highlight-code {\n",
       "white-space: pre;\n",
       "font-family: monospace;\n",
       "}\n",
       ".suggestion-warning { \n",
       "font-weight: bold;\n",
       "color: rgb(200, 130, 0);\n",
       "}\n",
       ".suggestion-error { \n",
       "font-weight: bold;\n",
       "color: red;\n",
       "}\n",
       ".suggestion-name {\n",
       "font-weight: bold;\n",
       "}\n",
       "</style><span class='get-type'>(*) :: forall a. Num a => a -> a -> a</span>"
      ],
      "text/plain": [
       "(*) :: forall a. Num a => a -> a -> a"
      ]
     },
     "metadata": {},
     "output_type": "display_data"
    }
   ],
   "source": [
    ":info (*)\n",
    ":type (*)"
   ]
  },
  {
   "cell_type": "code",
   "execution_count": 32,
   "metadata": {},
   "outputs": [
    {
     "data": {
      "text/plain": [
       "10.0"
      ]
     },
     "metadata": {},
     "output_type": "display_data"
    },
    {
     "data": {
      "text/plain": [
       "10.0"
      ]
     },
     "metadata": {},
     "output_type": "display_data"
    },
    {
     "data": {
      "text/plain": [
       "10.0"
      ]
     },
     "metadata": {},
     "output_type": "display_data"
    },
    {
     "data": {
      "text/plain": [
       "10.0"
      ]
     },
     "metadata": {},
     "output_type": "display_data"
    }
   ],
   "source": [
    "-- left and right associative operators\n",
    "\n",
    "6 * 5 / 3\n",
    "(6 * 5)/ 3\n",
    "6 * (5 / 3)\n",
    "5 / 3 * 6\n",
    "\n",
    "--with most parens don't chang but..."
   ]
  },
  {
   "cell_type": "code",
   "execution_count": 33,
   "metadata": {},
   "outputs": [
    {
     "data": {
      "text/plain": [
       "2417851639229258349412352"
      ]
     },
     "metadata": {},
     "output_type": "display_data"
    },
    {
     "data": {
      "text/plain": [
       "2417851639229258349412352"
      ]
     },
     "metadata": {},
     "output_type": "display_data"
    },
    {
     "data": {
      "text/plain": [
       "4096"
      ]
     },
     "metadata": {},
     "output_type": "display_data"
    }
   ],
   "source": [
    "-- lets look at exponentiation (to the power of)\n",
    "\n",
    "2 ^ 3 ^ 4\n",
    "2 ^ (3 ^ 4)\n",
    "(2 ^ 3)^ 4\n",
    "\n",
    "--it is 'right' associavite"
   ]
  }
 ],
 "metadata": {
  "kernelspec": {
   "display_name": "Haskell",
   "language": "haskell",
   "name": "haskell"
  },
  "language_info": {
   "codemirror_mode": "ihaskell",
   "file_extension": ".hs",
   "name": "haskell",
   "version": "8.0.2"
  }
 },
 "nbformat": 4,
 "nbformat_minor": 2
}
